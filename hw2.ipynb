{
  "cells": [
    {
      "cell_type": "markdown",
      "metadata": {
        "id": "LVIxz9O1N7g6"
      },
      "source": [
        "# Homework 3. Dense Prediction (50 points)\n",
        "---\n",
        "In this part, you will study a problem of segmentation. The goal of this assignment is to study, implement, and compare different components of dense prediction models, including **data augmentation**, **backbones**, **classifiers** and **losses**.\n",
        "\n",
        "This assignment will require training multiple neural networks, therefore it is advised to use a **GPU** accelerator."
      ]
    },
    {
      "cell_type": "markdown",
      "metadata": {
        "id": "-5Hmx1Yko0c5"
      },
      "source": [
        "<font color='red'>**In this task, it is obligatory to provide accuracy plots on the training and validation datasets obtained during training, as well as examples of the work of each of the models on the images. Without plots, your work will get 0 points. Writing a report is just as important as writing code.**</font>"
      ]
    },
    {
      "cell_type": "markdown",
      "metadata": {
        "id": "8S99AsI9SPf0"
      },
      "source": [
        "**<font color='red'>Before the submission please convert your notebook to .py file and check that it runs correctly. How to get .py file in Colab: File -> Download -> Download .py**"
      ]
    },
    {
      "cell_type": "code",
      "execution_count": 1,
      "metadata": {},
      "outputs": [],
      "source": [
        "import tensorboard"
      ]
    },
    {
      "cell_type": "code",
      "execution_count": 2,
      "metadata": {
        "id": "ZFvqQe-C1tyO"
      },
      "outputs": [
        {
          "name": "stdout",
          "output_type": "stream",
          "text": [
            "WARNING: pip is being invoked by an old script wrapper. This will fail in a future version of pip.\n",
            "Please see https://github.com/pypa/pip/issues/5599 for advice on fixing the underlying issue.\n",
            "To avoid this problem you can invoke Python with '-m pip' instead of running pip directly.\n",
            "Defaulting to user installation because normal site-packages is not writeable\n",
            "Requirement already satisfied: pytorch_lightning in /home/p0l0satik/.local/lib/python3.6/site-packages (1.5.10)\n",
            "Requirement already satisfied: typing-extensions in /home/p0l0satik/.local/lib/python3.6/site-packages (from pytorch_lightning) (4.1.1)\n",
            "Requirement already satisfied: numpy>=1.17.2 in /home/p0l0satik/.local/lib/python3.6/site-packages (from pytorch_lightning) (1.19.5)\n",
            "Requirement already satisfied: tqdm>=4.41.0 in /home/p0l0satik/.local/lib/python3.6/site-packages (from pytorch_lightning) (4.62.3)\n",
            "Requirement already satisfied: fsspec[http]!=2021.06.0,>=2021.05.0 in /home/p0l0satik/.local/lib/python3.6/site-packages (from pytorch_lightning) (2022.1.0)\n",
            "Requirement already satisfied: future>=0.17.1 in /home/p0l0satik/.local/lib/python3.6/site-packages (from pytorch_lightning) (0.18.2)\n",
            "Requirement already satisfied: tensorboard>=2.2.0 in /home/p0l0satik/.local/lib/python3.6/site-packages (from pytorch_lightning) (2.8.0)\n",
            "Requirement already satisfied: packaging>=17.0 in /home/p0l0satik/.local/lib/python3.6/site-packages (from pytorch_lightning) (21.3)\n",
            "Requirement already satisfied: torch>=1.7.* in /home/p0l0satik/.local/lib/python3.6/site-packages (from pytorch_lightning) (1.10.1)\n",
            "Requirement already satisfied: setuptools==59.5.0 in /home/p0l0satik/.local/lib/python3.6/site-packages (from pytorch_lightning) (59.5.0)\n",
            "Requirement already satisfied: torchmetrics>=0.4.1 in /home/p0l0satik/.local/lib/python3.6/site-packages (from pytorch_lightning) (0.8.0)\n",
            "Requirement already satisfied: PyYAML>=5.1 in /home/p0l0satik/.local/lib/python3.6/site-packages (from pytorch_lightning) (6.0)\n",
            "Requirement already satisfied: pyDeprecate==0.3.1 in /home/p0l0satik/.local/lib/python3.6/site-packages (from pytorch_lightning) (0.3.1)\n",
            "Requirement already satisfied: requests in /usr/lib/python3/dist-packages (from fsspec[http]!=2021.06.0,>=2021.05.0->pytorch_lightning) (2.21.0)\n",
            "Requirement already satisfied: aiohttp in /home/p0l0satik/.local/lib/python3.6/site-packages (from fsspec[http]!=2021.06.0,>=2021.05.0->pytorch_lightning) (3.8.1)\n",
            "Requirement already satisfied: pyparsing!=3.0.5,>=2.0.2 in /home/p0l0satik/.local/lib/python3.6/site-packages (from packaging>=17.0->pytorch_lightning) (3.0.7)\n",
            "Requirement already satisfied: wheel>=0.26 in /usr/lib/python3/dist-packages (from tensorboard>=2.2.0->pytorch_lightning) (0.32.3)\n",
            "Requirement already satisfied: tensorboard-data-server<0.7.0,>=0.6.0 in /home/p0l0satik/.local/lib/python3.6/site-packages (from tensorboard>=2.2.0->pytorch_lightning) (0.6.1)\n",
            "Requirement already satisfied: tensorboard-plugin-wit>=1.6.0 in /home/p0l0satik/.local/lib/python3.6/site-packages (from tensorboard>=2.2.0->pytorch_lightning) (1.8.1)\n",
            "Requirement already satisfied: grpcio>=1.24.3 in /home/p0l0satik/.local/lib/python3.6/site-packages (from tensorboard>=2.2.0->pytorch_lightning) (1.45.0)\n",
            "Requirement already satisfied: absl-py>=0.4 in /home/p0l0satik/.local/lib/python3.6/site-packages (from tensorboard>=2.2.0->pytorch_lightning) (1.0.0)\n",
            "Requirement already satisfied: google-auth-oauthlib<0.5,>=0.4.1 in /home/p0l0satik/.local/lib/python3.6/site-packages (from tensorboard>=2.2.0->pytorch_lightning) (0.4.6)\n",
            "Requirement already satisfied: protobuf>=3.6.0 in /home/p0l0satik/.local/lib/python3.6/site-packages (from tensorboard>=2.2.0->pytorch_lightning) (3.19.4)\n",
            "Requirement already satisfied: markdown>=2.6.8 in /home/p0l0satik/.local/lib/python3.6/site-packages (from tensorboard>=2.2.0->pytorch_lightning) (3.3.6)\n",
            "Requirement already satisfied: werkzeug>=0.11.15 in /home/p0l0satik/.local/lib/python3.6/site-packages (from tensorboard>=2.2.0->pytorch_lightning) (2.0.3)\n",
            "Requirement already satisfied: google-auth<3,>=1.6.3 in /home/p0l0satik/.local/lib/python3.6/site-packages (from tensorboard>=2.2.0->pytorch_lightning) (2.6.2)\n",
            "Requirement already satisfied: dataclasses in /home/p0l0satik/.local/lib/python3.6/site-packages (from torch>=1.7.*->pytorch_lightning) (0.8)\n",
            "Requirement already satisfied: six in /usr/lib/python3/dist-packages (from absl-py>=0.4->tensorboard>=2.2.0->pytorch_lightning) (1.12.0)\n",
            "Requirement already satisfied: rsa<5,>=3.1.4 in /home/p0l0satik/.local/lib/python3.6/site-packages (from google-auth<3,>=1.6.3->tensorboard>=2.2.0->pytorch_lightning) (4.8)\n",
            "Requirement already satisfied: cachetools<6.0,>=2.0.0 in /home/p0l0satik/.local/lib/python3.6/site-packages (from google-auth<3,>=1.6.3->tensorboard>=2.2.0->pytorch_lightning) (4.2.4)\n",
            "Requirement already satisfied: pyasn1-modules>=0.2.1 in /home/p0l0satik/.local/lib/python3.6/site-packages (from google-auth<3,>=1.6.3->tensorboard>=2.2.0->pytorch_lightning) (0.2.8)\n",
            "Requirement already satisfied: requests-oauthlib>=0.7.0 in /home/p0l0satik/.local/lib/python3.6/site-packages (from google-auth-oauthlib<0.5,>=0.4.1->tensorboard>=2.2.0->pytorch_lightning) (1.3.1)\n",
            "Requirement already satisfied: importlib-metadata>=4.4 in /home/p0l0satik/.local/lib/python3.6/site-packages (from markdown>=2.6.8->tensorboard>=2.2.0->pytorch_lightning) (4.8.3)\n",
            "Requirement already satisfied: asynctest==0.13.0 in /home/p0l0satik/.local/lib/python3.6/site-packages (from aiohttp->fsspec[http]!=2021.06.0,>=2021.05.0->pytorch_lightning) (0.13.0)\n",
            "Requirement already satisfied: aiosignal>=1.1.2 in /home/p0l0satik/.local/lib/python3.6/site-packages (from aiohttp->fsspec[http]!=2021.06.0,>=2021.05.0->pytorch_lightning) (1.2.0)\n",
            "Requirement already satisfied: idna-ssl>=1.0 in /home/p0l0satik/.local/lib/python3.6/site-packages (from aiohttp->fsspec[http]!=2021.06.0,>=2021.05.0->pytorch_lightning) (1.1.0)\n",
            "Requirement already satisfied: charset-normalizer<3.0,>=2.0 in /home/p0l0satik/.local/lib/python3.6/site-packages (from aiohttp->fsspec[http]!=2021.06.0,>=2021.05.0->pytorch_lightning) (2.0.12)\n",
            "Requirement already satisfied: yarl<2.0,>=1.0 in /home/p0l0satik/.local/lib/python3.6/site-packages (from aiohttp->fsspec[http]!=2021.06.0,>=2021.05.0->pytorch_lightning) (1.7.2)\n",
            "Requirement already satisfied: attrs>=17.3.0 in /home/p0l0satik/.local/lib/python3.6/site-packages (from aiohttp->fsspec[http]!=2021.06.0,>=2021.05.0->pytorch_lightning) (21.4.0)\n",
            "Requirement already satisfied: async-timeout<5.0,>=4.0.0a3 in /home/p0l0satik/.local/lib/python3.6/site-packages (from aiohttp->fsspec[http]!=2021.06.0,>=2021.05.0->pytorch_lightning) (4.0.2)\n",
            "Requirement already satisfied: multidict<7.0,>=4.5 in /home/p0l0satik/.local/lib/python3.6/site-packages (from aiohttp->fsspec[http]!=2021.06.0,>=2021.05.0->pytorch_lightning) (5.2.0)\n",
            "Requirement already satisfied: frozenlist>=1.1.1 in /home/p0l0satik/.local/lib/python3.6/site-packages (from aiohttp->fsspec[http]!=2021.06.0,>=2021.05.0->pytorch_lightning) (1.2.0)\n",
            "Requirement already satisfied: idna>=2.0 in /usr/lib/python3/dist-packages (from idna-ssl>=1.0->aiohttp->fsspec[http]!=2021.06.0,>=2021.05.0->pytorch_lightning) (2.6)\n",
            "Requirement already satisfied: zipp>=0.5 in /home/p0l0satik/.local/lib/python3.6/site-packages (from importlib-metadata>=4.4->markdown>=2.6.8->tensorboard>=2.2.0->pytorch_lightning) (3.6.0)\n",
            "Requirement already satisfied: pyasn1<0.5.0,>=0.4.6 in /home/p0l0satik/.local/lib/python3.6/site-packages (from pyasn1-modules>=0.2.1->google-auth<3,>=1.6.3->tensorboard>=2.2.0->pytorch_lightning) (0.4.8)\n",
            "Requirement already satisfied: oauthlib>=3.0.0 in /home/p0l0satik/.local/lib/python3.6/site-packages (from requests-oauthlib>=0.7.0->google-auth-oauthlib<0.5,>=0.4.1->tensorboard>=2.2.0->pytorch_lightning) (3.2.0)\n",
            "/bin/bash: sl: command not found\n"
          ]
        }
      ],
      "source": [
        "# !pip install -U gdown\n",
        "!pip install pytorch_lightning\n",
        "!sl"
      ]
    },
    {
      "cell_type": "code",
      "execution_count": 3,
      "metadata": {
        "id": "li5_q8eKHEDK"
      },
      "outputs": [],
      "source": [
        "# Determine the locations of auxiliary libraries and datasets.\n",
        "# `AUX_DATA_ROOT` is where 'tiny-imagenet-2022.zip' is.\n",
        "\n",
        "# Detect if we are in Google Colaboratory\n",
        "try:\n",
        "    import google.colab\n",
        "    IN_COLAB = True\n",
        "except ImportError:\n",
        "    IN_COLAB = False\n",
        "\n",
        "from pathlib import Path\n",
        "if IN_COLAB:\n",
        "    google.colab.drive.mount(\"/content/drive\")\n",
        "    \n",
        "    # Change this if you created the shortcut in a different location\n",
        "    AUX_DATA_ROOT = Path(\"/content/drive/My Drive/Colab Notebooks/SK DL 2022/HW2\")\n",
        "    \n",
        "    assert AUX_DATA_ROOT.is_dir(), \"Have you forgot to 'Add a shortcut to Drive'?\"\n",
        "    \n",
        "    import sys\n",
        "    sys.path.append(str(AUX_DATA_ROOT))\n",
        "else:\n",
        "    AUX_DATA_ROOT = Path(\".\")"
      ]
    },
    {
      "cell_type": "code",
      "execution_count": 4,
      "metadata": {
        "id": "lejJ-z2sIIAJ"
      },
      "outputs": [
        {
          "data": {
            "text/plain": [
              "PosixPath('.')"
            ]
          },
          "execution_count": 4,
          "metadata": {},
          "output_type": "execute_result"
        }
      ],
      "source": [
        "AUX_DATA_ROOT"
      ]
    },
    {
      "cell_type": "code",
      "execution_count": 5,
      "metadata": {
        "id": "m4zCqVdsIIlZ"
      },
      "outputs": [
        {
          "name": "stdout",
          "output_type": "stream",
          "text": [
            "datasets  hw2.ipynb  README.md\tsemantic_segmentation\n"
          ]
        }
      ],
      "source": [
        "# pass a python variable to console in brckets {}\n",
        "!ls {'\"%s\"' % AUX_DATA_ROOT}"
      ]
    },
    {
      "cell_type": "code",
      "execution_count": 6,
      "metadata": {
        "id": "_7EtbrFUN7hD"
      },
      "outputs": [],
      "source": [
        "# Uncomment and run if in Colab\n",
        "# !mkdir datasets\n",
        "# !cp '{AUX_DATA_ROOT}/tiny-floodnet-challenge.tar.gz' datasets/tiny-floodnet-challenge.tar.gz\n",
        "# !tar -xzf datasets/tiny-floodnet-challenge.tar -C datasets\n",
        "# !rm datasets/tiny-floodnet-challenge.tar\n",
        "\n"
      ]
    },
    {
      "cell_type": "code",
      "execution_count": 7,
      "metadata": {
        "id": "RIOJYjRuJw87"
      },
      "outputs": [
        {
          "name": "stdout",
          "output_type": "stream",
          "text": [
            "test  train\n"
          ]
        }
      ],
      "source": [
        "!ls datasets/tiny-floodnet-challenge"
      ]
    },
    {
      "cell_type": "markdown",
      "metadata": {
        "id": "tI6a6z4eN7hE"
      },
      "source": [
        "## Dataset\n",
        "\n",
        "We will use a simplified version of a [FloodNet Challenge](http://www.classic.grss-ieee.org/earthvision2021/challenge.html).\n",
        "\n",
        "Compared to the original challenge, our version doesn't have difficult (and rare) \"flooded\" labels, and the images are downsampled\n",
        "\n",
        "<img src=\"https://i.imgur.com/RZuVuVp.png\" />"
      ]
    },
    {
      "cell_type": "markdown",
      "metadata": {
        "id": "vf0zwWxrN7hF"
      },
      "source": [
        "## Assignments and grading\n",
        "\n",
        "\n",
        "- **Part 1. Code**: fill in the empty gaps (marked with `#TODO`) in the code of the assignment (34 points):\n",
        "    - `dataset` -- 4 points\n",
        "    - `model` -- 20 points\n",
        "    - `loss` -- 8 points\n",
        "    - `train` -- 2 points\n",
        "- **Part 2. Train and benchmark** the performance of the required models (6 points):\n",
        "    - All 6 checkpoints are provided -- 3 points\n",
        "    - Checkpoints have > 0.5 accuracy -- 3 points\n",
        "- **Part 3. Report** your findings (10 points)\n",
        "    - Each task -- 2.5 points\n",
        "\n",
        "- **Total score**: 50 points.\n",
        "\n",
        "For detailed grading of each coding assignment, please refer to the comments inside the files. Please use the materials provided during a seminar and during a lecture to do a coding part, as this will help you to further familiarize yourself with PyTorch. Copy-pasting the code from Google Search will get penalized.\n",
        "\n",
        "In part 2, you should upload all your pre-trained checkpoints to your personal Google Drive, grant public access and provide a file ID, following the intructions in the notebook.\n",
        "\n",
        "Note that for each task in part 3 to count towards your final grade, you should complete the corresponding tasks in part 2.\n",
        "\n",
        "For example, if you are asked to compare Model X and Model Y, you should provide the checkpoints for these models in your submission, and their accuracies should be above minimal threshold."
      ]
    },
    {
      "cell_type": "markdown",
      "metadata": {
        "id": "tuS-7JPoSD6Q"
      },
      "source": [
        "## Part 1. Code\n"
      ]
    },
    {
      "cell_type": "markdown",
      "metadata": {
        "id": "DziabO6AN7hF"
      },
      "source": [
        "### `dataset`\n",
        "**TODO: implement and apply data augmentations**\n",
        "\n",
        "You'll need to study a popular augmentations library: [Albumentations](https://albumentations.ai/), and implement the requested augs. Remember that geometric augmentations need to be applied to both images and masks at the same time, and Albumentations has [native support](https://albumentations.ai/docs/getting_started/mask_augmentation/) for that."
      ]
    },
    {
      "cell_type": "code",
      "execution_count": 8,
      "metadata": {
        "id": "IfBtHlwB1Lzd"
      },
      "outputs": [
        {
          "data": {
            "text/plain": [
              "tensor([[7, 7, 7,  ..., 7, 7, 7],\n",
              "        [7, 7, 7,  ..., 7, 7, 7],\n",
              "        [7, 7, 7,  ..., 7, 7, 7],\n",
              "        ...,\n",
              "        [7, 7, 7,  ..., 7, 7, 7],\n",
              "        [7, 7, 7,  ..., 7, 7, 7],\n",
              "        [7, 7, 7,  ..., 7, 7, 7]])"
            ]
          },
          "execution_count": 8,
          "metadata": {},
          "output_type": "execute_result"
        },
        {
          "data": {
            "image/png": "[encoded data removed]",
            "text/plain": [
              "<Figure size 1440x720 with 10 Axes>"
            ]
          },
          "metadata": {
            "needs_background": "light"
          },
          "output_type": "display_data"
        }
      ],
      "source": [
        "from torch.utils.data import Dataset, DataLoader\n",
        "import albumentations as A\n",
        "from torchvision.transforms import ToTensor\n",
        "import os\n",
        "from PIL import Image\n",
        "import numpy as np\n",
        "import torch\n",
        "import matplotlib.pyplot as plt\n",
        "\n",
        "\n",
        "class FloodNet(Dataset):\n",
        "    \"\"\"\n",
        "    Labels semantic:\n",
        "    0: Background, 1: Building, 2: Road, 3: Water, 4: Tree, 5: Vehicle, 6: Pool, 7: Grass\n",
        "    \"\"\"\n",
        "    def __init__(\n",
        "        self,\n",
        "        data_path: str,\n",
        "        phase: str,\n",
        "        augment: bool,\n",
        "        img_size: int,\n",
        "    ):\n",
        "        self.num_classes = 8\n",
        "        self.data_path = data_path\n",
        "        self.phase = phase\n",
        "        self.augment = augment\n",
        "        self.img_size = img_size\n",
        "\n",
        "        self.items = [filename.split('.')[0] for filename in os.listdir(f'{data_path}/{phase}/image')]\n",
        "        \n",
        "        # TODO: implement augmentations (3.5 points)\n",
        "        if augment:\n",
        "            # TODO:\n",
        "            # Random resize\n",
        "            # Random crop (within image borders, output size = img_size)\n",
        "            # Random rotation\n",
        "            # Random horizontal and vertical Flip\n",
        "            # Random color augmentation\n",
        "            self.transform = A.Compose([\n",
        "                A.Resize(img_size, img_size, p=0.5),\n",
        "                A.RandomResizedCrop(img_size, img_size),\n",
        "                A.Rotate([-50, 50], p=0.5),\n",
        "                A.VerticalFlip(p=0.5),\n",
        "                A.HorizontalFlip(p=0.5),\n",
        "                A.ColorJitter()\n",
        "            ])\n",
        "\n",
        "        else:\n",
        "        \t# TODO: random crop to img_size\n",
        "            self.transform = A.RandomResizedCrop(img_size, img_size)\n",
        "        \n",
        "        self.to_tensor = ToTensor()\n",
        "\n",
        "    def __len__(self):\n",
        "        return len(self.items)\n",
        "\n",
        "    def __getitem__(self, index):\n",
        "        image = np.asarray(Image.open(f'{self.data_path}/{self.phase}/image/{self.items[index]}.jpg'))\n",
        "        mask = np.asarray(Image.open(f'{self.data_path}/{self.phase}/mask/{self.items[index]}.png'))\n",
        "        # print(image.shape)\n",
        "        if self.phase == 'train':\n",
        "            # TODO: apply transform to both image and mask (0.5 points)\n",
        "            t = self.transform(image=image, mask=mask)\n",
        "            image = t[\"image\"]\n",
        "            mask = t[\"mask\"]\n",
        "\n",
        "        image = self.to_tensor(image.copy())\n",
        "        mask = torch.from_numpy(mask.copy()).long()\n",
        "\n",
        "        if self.phase == 'train':\n",
        "            assert isinstance(image, torch.FloatTensor) and image.shape == (3, self.img_size, self.img_size)\n",
        "            assert isinstance(mask, torch.LongTensor) and mask.shape == (self.img_size, self.img_size)\n",
        "\n",
        "        return image, mask\n",
        "\n",
        "def show_aug(dataset):\n",
        "\n",
        "    n_pics_to_show = 10\n",
        "    fig, ax = plt.subplots(1, n_pics_to_show, figsize=(20, 10))\n",
        "\n",
        "    for i in range(n_pics_to_show):\n",
        "        rand_idx = np.random.randint(len(dataset))\n",
        "        pic, label = dataset[rand_idx]\n",
        "        \n",
        "        pic_np = pic.data.numpy()\n",
        "        pic_np = np.rollaxis(pic_np, 0, 3)    # 3xHxW to HxWx3\n",
        "        ax[i].imshow(pic_np)\n",
        "        # ax[i].set_title(label)\n",
        "\n",
        "train_dataset_show = FloodNet('datasets/tiny-floodnet-challenge', 'train', True, 256)\n",
        "test_dataset_show = FloodNet('datasets/tiny-floodnet-challenge', 'test', True, 256)\n",
        "\n",
        "show_aug(train_dataset_show)\n",
        "train_dataset_show[0][1]\n"
      ]
    },
    {
      "cell_type": "markdown",
      "metadata": {
        "id": "y-Qcudg1N7hG"
      },
      "source": [
        "### `model`\n",
        "**TODO: Implement the required models.**\n",
        "\n",
        "Typically, all segmentation networks consist of an encoder and decoder. Below is a scheme for a popular DeepLab v3 architecture:\n",
        "\n",
        "<img src=\"https://i.imgur.com/cdlkxvp.png\" />\n",
        "\n",
        "The encoder consists of a convolutional backbone, typically with extensive use of convs with dilations (atrous convs) and a head, which helps to further boost the receptive field. As you can see, the general idea for the encoders is to have as big of a receptive field, as possible.\n",
        "\n",
        "The decoder either does upsampling with convolutions (similarly to the scheme above, or to UNets), or even by simply interpolating the outputs of the encoder.\n",
        "\n",
        "In this assignment, you will need to implement **UNet** and **DeepLab** models. Example UNet looks like this:\n",
        "\n",
        "<img src=\"https://i.imgur.com/uVdcE4e.png\" />\n",
        "\n",
        "For **DeepLab** model we will have three variants for backbones: **ResNet18**, **VGG11 (with BatchNorm)**, and **MobileNet v3 (small).** Use `torchvision.models` to obtain pre-trained versions of these backbones and simply extract their convolutional parts. To familiarize yourself with **MobileNet v3** model, follow this [link](https://paperswithcode.com/paper/searching-for-mobilenetv3).\n",
        "\n",
        "We will also use **Atrous Spatial Pyramid Pooling (ASPP)** head. Its scheme can be seen in the DeepLab v3 architecture above. ASPP is one of the blocks which greatly increases the spatial size of the model, and hence boosts the model's performance. For more details, you can refer to this [link](https://paperswithcode.com/method/aspp)."
      ]
    },
    {
      "cell_type": "code",
      "execution_count": 9,
      "metadata": {
        "id": "g4YZ3736KaFd"
      },
      "outputs": [
        {
          "name": "stderr",
          "output_type": "stream",
          "text": [
            "/home/p0l0satik/.local/lib/python3.6/site-packages/torch/nn/functional.py:3847: UserWarning: nn.functional.upsample_bilinear is deprecated. Use nn.functional.interpolate instead.\n",
            "  warnings.warn(\"nn.functional.upsample_bilinear is deprecated. Use nn.functional.interpolate instead.\")\n"
          ]
        },
        {
          "data": {
            "text/plain": [
              "torch.Size([1, 8, 750, 1000])"
            ]
          },
          "execution_count": 9,
          "metadata": {},
          "output_type": "execute_result"
        }
      ],
      "source": [
        "import torch\n",
        "from torch import nn\n",
        "from torch.nn import functional as F\n",
        "from torchvision import models\n",
        "\n",
        "def calc_ch(min_ch, max_ch, step):\n",
        "    curr_ch = min_ch * (2**step)\n",
        "    return max_ch if curr_ch > max_ch else curr_ch\n",
        "\n",
        "class ConvRelu(nn.Sequential):\n",
        "    def __init__(self, in_ch, out_ch):\n",
        "        super(ConvRelu, self).__init__(\n",
        "            nn.Conv2d(in_ch, out_ch, (3,3), padding=1),\n",
        "            nn.BatchNorm2d(out_ch),\n",
        "            nn.ReLU(),\n",
        "        )\n",
        "\n",
        "class ConvSigmoid(nn.Sequential):\n",
        "    def __init__(self, in_ch, out_ch):\n",
        "        super(ConvSigmoid, self).__init__(\n",
        "            nn.Conv2d(in_ch, out_ch, (1,1)),\n",
        "            nn.Sigmoid()\n",
        "        )\n",
        "\n",
        "class DropConvRelu(nn.Sequential):\n",
        "    def __init__(self, in_ch, out_ch):\n",
        "        super(DropConvRelu, self).__init__(\n",
        "            nn.Dropout(),\n",
        "            nn.Conv2d(in_ch, out_ch, (3,3), padding=1),\n",
        "            nn.BatchNorm2d(out_ch),\n",
        "            nn.ReLU()\n",
        "        )\n",
        "\n",
        "class BlockTemplate(nn.Module):\n",
        "    def __init__(self):\n",
        "        super(BlockTemplate, self).__init__()\n",
        "        self.layer_list = nn.ModuleList()\n",
        "    \n",
        "    def forward(self, x):\n",
        "        for layer in self.layer_list:\n",
        "            x = layer(x)\n",
        "        return x\n",
        "\n",
        "class Upsmaple(BlockTemplate):\n",
        "    def __init__(self, min_ch, max_ch, step):\n",
        "        super(Upsmaple, self).__init__()\n",
        "        curr_ch = calc_ch(min_ch, max_ch, step)\n",
        "        self.layer_list.append(nn.ConvTranspose2d(curr_ch, curr_ch, (3,3), 2, 1, 1))\n",
        "\n",
        "class LastUp(BlockTemplate):\n",
        "    def __init__(self, num_classes, min_ch, max_ch):\n",
        "        super(LastUp, self).__init__()\n",
        "        curr_ch = calc_ch(min_ch, max_ch, 1)\n",
        "\n",
        "        self.layer_list.append(DropConvRelu(curr_ch * 2, curr_ch))\n",
        "        self.layer_list.append(ConvRelu(curr_ch, min_ch))\n",
        "        self.layer_list.append(ConvSigmoid(min_ch, num_classes))\n",
        "\n",
        "\n",
        "class UpModule(BlockTemplate):\n",
        "    def __init__(self, min_ch, max_ch, step):\n",
        "        super(UpModule, self).__init__()\n",
        "        curr_ch = calc_ch(min_ch, max_ch, step)\n",
        "        next_ch = calc_ch(min_ch, max_ch, step - 1)\n",
        "        # self.layer_list.append(ConvRelu(curr_ch * 2, next_ch))\n",
        "        self.layer_list.append(DropConvRelu(curr_ch * 2, next_ch))\n",
        "        self.layer_list.append(ConvRelu(next_ch, next_ch))\n",
        "\n",
        "class FirstDown(BlockTemplate):\n",
        "    def __init__(self, num_classes, min_ch, max_ch):\n",
        "        super(FirstDown, self).__init__()\n",
        "        next_ch = calc_ch(min_ch, max_ch, 1)\n",
        "        \n",
        "        self.layer_list.append(ConvRelu(num_classes, min_ch))\n",
        "        self.layer_list.append(ConvRelu(min_ch, next_ch))\n",
        "        # self.layer_list.append(ConvRelu(next_ch, next_ch))\n",
        "\n",
        "class DownModule(BlockTemplate):\n",
        "    def __init__(self, min_ch, max_ch, step):\n",
        "        super(DownModule, self).__init__()\n",
        "        curr_ch = calc_ch(min_ch, max_ch, step - 1)\n",
        "        next_ch = calc_ch(min_ch, max_ch, step)\n",
        "        self.layer_list.append(nn.MaxPool2d(2))\n",
        "        self.layer_list.append(ConvRelu(curr_ch, next_ch))\n",
        "        self.layer_list.append(ConvRelu(next_ch, next_ch))\n",
        "        # self.layer_list.append(ConvRelu(next_ch, next_ch))\n",
        "\n",
        "            \n",
        "class BottleNeck(BlockTemplate):\n",
        "    def __init__(self, min_ch, max_ch, step):\n",
        "        super(BottleNeck, self).__init__()\n",
        "        self.layer_list = nn.ModuleList()\n",
        "        self.layer_list.append(nn.MaxPool2d(2))\n",
        "\n",
        "        curr_ch = calc_ch(min_ch, max_ch, step)\n",
        "        for i in range(3):\n",
        "            self.layer_list.append(ConvRelu(curr_ch, curr_ch))\n",
        "\n",
        "\n",
        "\n",
        "class UNet(nn.Module):\n",
        "    \"\"\"\n",
        "    TODO: 8 points\n",
        "\n",
        "    A standard UNet network (with padding in covs).\n",
        "\n",
        "    For reference, see the scheme in materials/unet.png\n",
        "    - Use batch norm between conv and relu\n",
        "    - Use max pooling for downsampling\n",
        "    - Use conv transpose with kernel size = 3, stride = 2, padding = 1, and output padding = 1 for upsampling\n",
        "    - Use 0.5 dropout after concat\n",
        "\n",
        "    Args:\n",
        "      - num_classes: number of output classes\n",
        "      - min_channels: minimum number of channels in conv layers\n",
        "      - max_channels: number of channels in the bottleneck block\n",
        "      - num_down_blocks: number of blocks which end with downsampling\n",
        "\n",
        "    The full architecture includes downsampling blocks, a bottleneck block and upsampling blocks\n",
        "\n",
        "    You also need to account for inputs which size does not divide 2**num_down_blocks:\n",
        "    interpolate them before feeding into the blocks to the nearest size which divides 2**num_down_blocks,\n",
        "    and interpolate output logits back to the original shape\n",
        "    \"\"\"\n",
        "\n",
        "    def __init__(self, \n",
        "                 num_classes,\n",
        "                 min_channels=32,\n",
        "                 max_channels=512, \n",
        "                 num_down_blocks=4):\n",
        "        super(UNet, self).__init__()\n",
        "        self.num_classes = num_classes\n",
        "        self.layer_list = nn.ModuleList()\n",
        "        self.num_down_blocks = num_down_blocks\n",
        "\n",
        "        self.layer_list.append(FirstDown(3, min_channels, max_channels))\n",
        "\n",
        "        for i in range(1, num_down_blocks - 1):\n",
        "            self.layer_list.append(DownModule(min_channels, max_channels, i+1))\n",
        "\n",
        "        self.layer_list.append(BottleNeck(min_channels, max_channels, num_down_blocks-1))\n",
        "        \n",
        "        for i in range(num_down_blocks - 1, 1, -1):\n",
        "            self.layer_list.append(Upsmaple(min_channels, max_channels, i))\n",
        "            self.layer_list.append(UpModule(min_channels, max_channels, i))\n",
        "        \n",
        "        self.layer_list.append(Upsmaple(min_channels, max_channels, 1))\n",
        "        self.layer_list.append(LastUp(num_classes, min_channels, max_channels))\n",
        "        \n",
        "    def fix_size(self, x):\n",
        "        orig_size = list(x.shape[2:])\n",
        "        i, j = 0, 0 \n",
        "        if x.shape[-1] % 2 != 0:\n",
        "            i+=1\n",
        "        if x.shape[-2] % 2 != 0:\n",
        "            j+=1\n",
        "        if i or j:\n",
        "            orig_size[1] += i\n",
        "            orig_size[0] += j\n",
        "            x = F.upsample_bilinear(x, orig_size)\n",
        "        # print(i, j, x.shape)\n",
        "        return x\n",
        "\n",
        "    def forward(self, inputs):\n",
        "        trace = []\n",
        "        orig_size = inputs.shape[2:]\n",
        "        inputs = self.fix_size(inputs)\n",
        "\n",
        "        layer = self.layer_list[0]\n",
        "        x = layer(inputs)\n",
        "        x = self.fix_size(x)\n",
        "        trace.append(x)\n",
        "\n",
        "        for i in range(1, self.num_down_blocks - 1):\n",
        "            x = self.layer_list[i](x)\n",
        "            x = self.fix_size(x)\n",
        "            trace.append(x)\n",
        "\n",
        "        x = self.layer_list[self.num_down_blocks-1](x)\n",
        "        for i in range(0, self.num_down_blocks - 2):\n",
        "            x = self.layer_list[self.num_down_blocks + 2*i](x)\n",
        "            x = self.layer_list[self.num_down_blocks + 2*i + 1](torch.cat((trace[-i-1], x),1))\n",
        "\n",
        "        x = self.layer_list[-2](x)\n",
        "        if x.shape[2:] != orig_size:\n",
        "            x = F.upsample_bilinear(x, orig_size)\n",
        "        # print(x.shape, trace[0].shape, orig_size)\n",
        "        logits = self.layer_list[-1](torch.cat((trace[0], x),1))\n",
        "        if logits.shape[2:] != orig_size:\n",
        "            logits = F.upsample_bilinear(logits, orig_size)\n",
        "\n",
        "        assert logits.shape == (inputs.shape[0], self.num_classes, inputs.shape[2], inputs.shape[3]), 'Wrong shape of the logits'\n",
        "        return logits\n",
        "\n",
        "model1 = UNet(8, min_channels=56)\n",
        "model1(torch.rand(1, 3, 750, 1000)).shape\n",
        "# model1(torch.rand(1, 3, 256, 256)).shape\n",
        "\n"
      ]
    },
    {
      "cell_type": "code",
      "execution_count": 10,
      "metadata": {},
      "outputs": [
        {
          "name": "stdout",
          "output_type": "stream",
          "text": [
            "WARNING: pip is being invoked by an old script wrapper. This will fail in a future version of pip.\n",
            "Please see https://github.com/pypa/pip/issues/5599 for advice on fixing the underlying issue.\n",
            "To avoid this problem you can invoke Python with '-m pip' instead of running pip directly.\n",
            "Defaulting to user installation because normal site-packages is not writeable\n",
            "\u001b[31mERROR: You must give at least one requirement to install (see \"pip help install\")\u001b[0m\n"
          ]
        }
      ],
      "source": [
        "!pip install "
      ]
    },
    {
      "cell_type": "code",
      "execution_count": 11,
      "metadata": {},
      "outputs": [
        {
          "name": "stdout",
          "output_type": "stream",
          "text": [
            "ResNet(\n",
            "  (conv1): Conv2d(3, 64, kernel_size=(7, 7), stride=(2, 2), padding=(3, 3), bias=False)\n",
            "  (bn1): BatchNorm2d(64, eps=1e-05, momentum=0.1, affine=True, track_running_stats=True)\n",
            "  (relu): ReLU(inplace=True)\n",
            "  (maxpool): MaxPool2d(kernel_size=3, stride=2, padding=1, dilation=1, ceil_mode=False)\n",
            "  (layer1): Sequential(\n",
            "    (0): BasicBlock(\n",
            "      (conv1): Conv2d(64, 64, kernel_size=(3, 3), stride=(1, 1), padding=(1, 1), bias=False)\n",
            "      (bn1): BatchNorm2d(64, eps=1e-05, momentum=0.1, affine=True, track_running_stats=True)\n",
            "      (relu): ReLU(inplace=True)\n",
            "      (conv2): Conv2d(64, 64, kernel_size=(3, 3), stride=(1, 1), padding=(1, 1), bias=False)\n",
            "      (bn2): BatchNorm2d(64, eps=1e-05, momentum=0.1, affine=True, track_running_stats=True)\n",
            "    )\n",
            "    (1): BasicBlock(\n",
            "      (conv1): Conv2d(64, 64, kernel_size=(3, 3), stride=(1, 1), padding=(1, 1), bias=False)\n",
            "      (bn1): BatchNorm2d(64, eps=1e-05, momentum=0.1, affine=True, track_running_stats=True)\n",
            "      (relu): ReLU(inplace=True)\n",
            "      (conv2): Conv2d(64, 64, kernel_size=(3, 3), stride=(1, 1), padding=(1, 1), bias=False)\n",
            "      (bn2): BatchNorm2d(64, eps=1e-05, momentum=0.1, affine=True, track_running_stats=True)\n",
            "    )\n",
            "  )\n",
            "  (layer2): Sequential(\n",
            "    (0): BasicBlock(\n",
            "      (conv1): Conv2d(64, 128, kernel_size=(3, 3), stride=(2, 2), padding=(1, 1), bias=False)\n",
            "      (bn1): BatchNorm2d(128, eps=1e-05, momentum=0.1, affine=True, track_running_stats=True)\n",
            "      (relu): ReLU(inplace=True)\n",
            "      (conv2): Conv2d(128, 128, kernel_size=(3, 3), stride=(1, 1), padding=(1, 1), bias=False)\n",
            "      (bn2): BatchNorm2d(128, eps=1e-05, momentum=0.1, affine=True, track_running_stats=True)\n",
            "      (downsample): Sequential(\n",
            "        (0): Conv2d(64, 128, kernel_size=(1, 1), stride=(2, 2), bias=False)\n",
            "        (1): BatchNorm2d(128, eps=1e-05, momentum=0.1, affine=True, track_running_stats=True)\n",
            "      )\n",
            "    )\n",
            "    (1): BasicBlock(\n",
            "      (conv1): Conv2d(128, 128, kernel_size=(3, 3), stride=(1, 1), padding=(1, 1), bias=False)\n",
            "      (bn1): BatchNorm2d(128, eps=1e-05, momentum=0.1, affine=True, track_running_stats=True)\n",
            "      (relu): ReLU(inplace=True)\n",
            "      (conv2): Conv2d(128, 128, kernel_size=(3, 3), stride=(1, 1), padding=(1, 1), bias=False)\n",
            "      (bn2): BatchNorm2d(128, eps=1e-05, momentum=0.1, affine=True, track_running_stats=True)\n",
            "    )\n",
            "  )\n",
            "  (layer3): Sequential(\n",
            "    (0): BasicBlock(\n",
            "      (conv1): Conv2d(128, 256, kernel_size=(3, 3), stride=(2, 2), padding=(1, 1), bias=False)\n",
            "      (bn1): BatchNorm2d(256, eps=1e-05, momentum=0.1, affine=True, track_running_stats=True)\n",
            "      (relu): ReLU(inplace=True)\n",
            "      (conv2): Conv2d(256, 256, kernel_size=(3, 3), stride=(1, 1), padding=(1, 1), bias=False)\n",
            "      (bn2): BatchNorm2d(256, eps=1e-05, momentum=0.1, affine=True, track_running_stats=True)\n",
            "      (downsample): Sequential(\n",
            "        (0): Conv2d(128, 256, kernel_size=(1, 1), stride=(2, 2), bias=False)\n",
            "        (1): BatchNorm2d(256, eps=1e-05, momentum=0.1, affine=True, track_running_stats=True)\n",
            "      )\n",
            "    )\n",
            "    (1): BasicBlock(\n",
            "      (conv1): Conv2d(256, 256, kernel_size=(3, 3), stride=(1, 1), padding=(1, 1), bias=False)\n",
            "      (bn1): BatchNorm2d(256, eps=1e-05, momentum=0.1, affine=True, track_running_stats=True)\n",
            "      (relu): ReLU(inplace=True)\n",
            "      (conv2): Conv2d(256, 256, kernel_size=(3, 3), stride=(1, 1), padding=(1, 1), bias=False)\n",
            "      (bn2): BatchNorm2d(256, eps=1e-05, momentum=0.1, affine=True, track_running_stats=True)\n",
            "    )\n",
            "  )\n",
            "  (layer4): Sequential(\n",
            "    (0): BasicBlock(\n",
            "      (conv1): Conv2d(256, 512, kernel_size=(3, 3), stride=(2, 2), padding=(1, 1), bias=False)\n",
            "      (bn1): BatchNorm2d(512, eps=1e-05, momentum=0.1, affine=True, track_running_stats=True)\n",
            "      (relu): ReLU(inplace=True)\n",
            "      (conv2): Conv2d(512, 512, kernel_size=(3, 3), stride=(1, 1), padding=(1, 1), bias=False)\n",
            "      (bn2): BatchNorm2d(512, eps=1e-05, momentum=0.1, affine=True, track_running_stats=True)\n",
            "      (downsample): Sequential(\n",
            "        (0): Conv2d(256, 512, kernel_size=(1, 1), stride=(2, 2), bias=False)\n",
            "        (1): BatchNorm2d(512, eps=1e-05, momentum=0.1, affine=True, track_running_stats=True)\n",
            "      )\n",
            "    )\n",
            "    (1): BasicBlock(\n",
            "      (conv1): Conv2d(512, 512, kernel_size=(3, 3), stride=(1, 1), padding=(1, 1), bias=False)\n",
            "      (bn1): BatchNorm2d(512, eps=1e-05, momentum=0.1, affine=True, track_running_stats=True)\n",
            "      (relu): ReLU(inplace=True)\n",
            "      (conv2): Conv2d(512, 512, kernel_size=(3, 3), stride=(1, 1), padding=(1, 1), bias=False)\n",
            "      (bn2): BatchNorm2d(512, eps=1e-05, momentum=0.1, affine=True, track_running_stats=True)\n",
            "    )\n",
            "  )\n",
            "  (avgpool): AdaptiveAvgPool2d(output_size=(1, 1))\n",
            "  (fc): Linear(in_features=512, out_features=1000, bias=True)\n",
            ")\n",
            "----------------------------------------------------------------\n",
            "        Layer (type)               Output Shape         Param #\n",
            "================================================================\n",
            "            Conv2d-1         [-1, 64, 128, 128]           9,408\n",
            "       BatchNorm2d-2         [-1, 64, 128, 128]             128\n",
            "              ReLU-3         [-1, 64, 128, 128]               0\n",
            "         MaxPool2d-4           [-1, 64, 64, 64]               0\n",
            "            Conv2d-5           [-1, 64, 64, 64]          36,864\n",
            "       BatchNorm2d-6           [-1, 64, 64, 64]             128\n",
            "              ReLU-7           [-1, 64, 64, 64]               0\n",
            "            Conv2d-8           [-1, 64, 64, 64]          36,864\n",
            "       BatchNorm2d-9           [-1, 64, 64, 64]             128\n",
            "             ReLU-10           [-1, 64, 64, 64]               0\n",
            "       BasicBlock-11           [-1, 64, 64, 64]               0\n",
            "           Conv2d-12           [-1, 64, 64, 64]          36,864\n",
            "      BatchNorm2d-13           [-1, 64, 64, 64]             128\n",
            "             ReLU-14           [-1, 64, 64, 64]               0\n",
            "           Conv2d-15           [-1, 64, 64, 64]          36,864\n",
            "      BatchNorm2d-16           [-1, 64, 64, 64]             128\n",
            "             ReLU-17           [-1, 64, 64, 64]               0\n",
            "       BasicBlock-18           [-1, 64, 64, 64]               0\n",
            "           Conv2d-19          [-1, 128, 32, 32]          73,728\n",
            "      BatchNorm2d-20          [-1, 128, 32, 32]             256\n",
            "             ReLU-21          [-1, 128, 32, 32]               0\n",
            "           Conv2d-22          [-1, 128, 32, 32]         147,456\n",
            "      BatchNorm2d-23          [-1, 128, 32, 32]             256\n",
            "           Conv2d-24          [-1, 128, 32, 32]           8,192\n",
            "      BatchNorm2d-25          [-1, 128, 32, 32]             256\n",
            "             ReLU-26          [-1, 128, 32, 32]               0\n",
            "       BasicBlock-27          [-1, 128, 32, 32]               0\n",
            "           Conv2d-28          [-1, 128, 32, 32]         147,456\n",
            "      BatchNorm2d-29          [-1, 128, 32, 32]             256\n",
            "             ReLU-30          [-1, 128, 32, 32]               0\n",
            "           Conv2d-31          [-1, 128, 32, 32]         147,456\n",
            "      BatchNorm2d-32          [-1, 128, 32, 32]             256\n",
            "             ReLU-33          [-1, 128, 32, 32]               0\n",
            "       BasicBlock-34          [-1, 128, 32, 32]               0\n",
            "           Conv2d-35          [-1, 256, 16, 16]         294,912\n",
            "      BatchNorm2d-36          [-1, 256, 16, 16]             512\n",
            "             ReLU-37          [-1, 256, 16, 16]               0\n",
            "           Conv2d-38          [-1, 256, 16, 16]         589,824\n",
            "      BatchNorm2d-39          [-1, 256, 16, 16]             512\n",
            "           Conv2d-40          [-1, 256, 16, 16]          32,768\n",
            "      BatchNorm2d-41          [-1, 256, 16, 16]             512\n",
            "             ReLU-42          [-1, 256, 16, 16]               0\n",
            "       BasicBlock-43          [-1, 256, 16, 16]               0\n",
            "           Conv2d-44          [-1, 256, 16, 16]         589,824\n",
            "      BatchNorm2d-45          [-1, 256, 16, 16]             512\n",
            "             ReLU-46          [-1, 256, 16, 16]               0\n",
            "           Conv2d-47          [-1, 256, 16, 16]         589,824\n",
            "      BatchNorm2d-48          [-1, 256, 16, 16]             512\n",
            "             ReLU-49          [-1, 256, 16, 16]               0\n",
            "       BasicBlock-50          [-1, 256, 16, 16]               0\n",
            "           Conv2d-51            [-1, 512, 8, 8]       1,179,648\n",
            "      BatchNorm2d-52            [-1, 512, 8, 8]           1,024\n",
            "             ReLU-53            [-1, 512, 8, 8]               0\n",
            "           Conv2d-54            [-1, 512, 8, 8]       2,359,296\n",
            "      BatchNorm2d-55            [-1, 512, 8, 8]           1,024\n",
            "           Conv2d-56            [-1, 512, 8, 8]         131,072\n",
            "      BatchNorm2d-57            [-1, 512, 8, 8]           1,024\n",
            "             ReLU-58            [-1, 512, 8, 8]               0\n",
            "       BasicBlock-59            [-1, 512, 8, 8]               0\n",
            "           Conv2d-60            [-1, 512, 8, 8]       2,359,296\n",
            "      BatchNorm2d-61            [-1, 512, 8, 8]           1,024\n",
            "             ReLU-62            [-1, 512, 8, 8]               0\n",
            "           Conv2d-63            [-1, 512, 8, 8]       2,359,296\n",
            "      BatchNorm2d-64            [-1, 512, 8, 8]           1,024\n",
            "             ReLU-65            [-1, 512, 8, 8]               0\n",
            "       BasicBlock-66            [-1, 512, 8, 8]               0\n",
            "AdaptiveAvgPool2d-67            [-1, 512, 1, 1]               0\n",
            "           Linear-68                 [-1, 1000]         513,000\n",
            "================================================================\n",
            "Total params: 11,689,512\n",
            "Trainable params: 11,689,512\n",
            "Non-trainable params: 0\n",
            "----------------------------------------------------------------\n",
            "Input size (MB): 0.75\n",
            "Forward/backward pass size (MB): 82.01\n",
            "Params size (MB): 44.59\n",
            "Estimated Total Size (MB): 127.35\n",
            "----------------------------------------------------------------\n",
            "Sequential(\n",
            "  (0): Conv2d(3, 64, kernel_size=(7, 7), stride=(2, 2), padding=(3, 3), bias=False)\n",
            "  (1): BatchNorm2d(64, eps=1e-05, momentum=0.1, affine=True, track_running_stats=True)\n",
            "  (2): ReLU(inplace=True)\n",
            "  (3): MaxPool2d(kernel_size=3, stride=2, padding=1, dilation=1, ceil_mode=False)\n",
            "  (4): Sequential(\n",
            "    (0): BasicBlock(\n",
            "      (conv1): Conv2d(64, 64, kernel_size=(3, 3), stride=(1, 1), padding=(1, 1), bias=False)\n",
            "      (bn1): BatchNorm2d(64, eps=1e-05, momentum=0.1, affine=True, track_running_stats=True)\n",
            "      (relu): ReLU(inplace=True)\n",
            "      (conv2): Conv2d(64, 64, kernel_size=(3, 3), stride=(1, 1), padding=(1, 1), bias=False)\n",
            "      (bn2): BatchNorm2d(64, eps=1e-05, momentum=0.1, affine=True, track_running_stats=True)\n",
            "    )\n",
            "    (1): BasicBlock(\n",
            "      (conv1): Conv2d(64, 64, kernel_size=(3, 3), stride=(1, 1), padding=(1, 1), bias=False)\n",
            "      (bn1): BatchNorm2d(64, eps=1e-05, momentum=0.1, affine=True, track_running_stats=True)\n",
            "      (relu): ReLU(inplace=True)\n",
            "      (conv2): Conv2d(64, 64, kernel_size=(3, 3), stride=(1, 1), padding=(1, 1), bias=False)\n",
            "      (bn2): BatchNorm2d(64, eps=1e-05, momentum=0.1, affine=True, track_running_stats=True)\n",
            "    )\n",
            "  )\n",
            "  (5): Sequential(\n",
            "    (0): BasicBlock(\n",
            "      (conv1): Conv2d(64, 128, kernel_size=(3, 3), stride=(2, 2), padding=(1, 1), bias=False)\n",
            "      (bn1): BatchNorm2d(128, eps=1e-05, momentum=0.1, affine=True, track_running_stats=True)\n",
            "      (relu): ReLU(inplace=True)\n",
            "      (conv2): Conv2d(128, 128, kernel_size=(3, 3), stride=(1, 1), padding=(1, 1), bias=False)\n",
            "      (bn2): BatchNorm2d(128, eps=1e-05, momentum=0.1, affine=True, track_running_stats=True)\n",
            "      (downsample): Sequential(\n",
            "        (0): Conv2d(64, 128, kernel_size=(1, 1), stride=(2, 2), bias=False)\n",
            "        (1): BatchNorm2d(128, eps=1e-05, momentum=0.1, affine=True, track_running_stats=True)\n",
            "      )\n",
            "    )\n",
            "    (1): BasicBlock(\n",
            "      (conv1): Conv2d(128, 128, kernel_size=(3, 3), stride=(1, 1), padding=(1, 1), bias=False)\n",
            "      (bn1): BatchNorm2d(128, eps=1e-05, momentum=0.1, affine=True, track_running_stats=True)\n",
            "      (relu): ReLU(inplace=True)\n",
            "      (conv2): Conv2d(128, 128, kernel_size=(3, 3), stride=(1, 1), padding=(1, 1), bias=False)\n",
            "      (bn2): BatchNorm2d(128, eps=1e-05, momentum=0.1, affine=True, track_running_stats=True)\n",
            "    )\n",
            "  )\n",
            "  (6): Sequential(\n",
            "    (0): BasicBlock(\n",
            "      (conv1): Conv2d(128, 256, kernel_size=(3, 3), stride=(2, 2), padding=(1, 1), bias=False)\n",
            "      (bn1): BatchNorm2d(256, eps=1e-05, momentum=0.1, affine=True, track_running_stats=True)\n",
            "      (relu): ReLU(inplace=True)\n",
            "      (conv2): Conv2d(256, 256, kernel_size=(3, 3), stride=(1, 1), padding=(1, 1), bias=False)\n",
            "      (bn2): BatchNorm2d(256, eps=1e-05, momentum=0.1, affine=True, track_running_stats=True)\n",
            "      (downsample): Sequential(\n",
            "        (0): Conv2d(128, 256, kernel_size=(1, 1), stride=(2, 2), bias=False)\n",
            "        (1): BatchNorm2d(256, eps=1e-05, momentum=0.1, affine=True, track_running_stats=True)\n",
            "      )\n",
            "    )\n",
            "    (1): BasicBlock(\n",
            "      (conv1): Conv2d(256, 256, kernel_size=(3, 3), stride=(1, 1), padding=(1, 1), bias=False)\n",
            "      (bn1): BatchNorm2d(256, eps=1e-05, momentum=0.1, affine=True, track_running_stats=True)\n",
            "      (relu): ReLU(inplace=True)\n",
            "      (conv2): Conv2d(256, 256, kernel_size=(3, 3), stride=(1, 1), padding=(1, 1), bias=False)\n",
            "      (bn2): BatchNorm2d(256, eps=1e-05, momentum=0.1, affine=True, track_running_stats=True)\n",
            "    )\n",
            "  )\n",
            "  (7): Sequential(\n",
            "    (0): BasicBlock(\n",
            "      (conv1): Conv2d(256, 512, kernel_size=(3, 3), stride=(2, 2), padding=(1, 1), bias=False)\n",
            "      (bn1): BatchNorm2d(512, eps=1e-05, momentum=0.1, affine=True, track_running_stats=True)\n",
            "      (relu): ReLU(inplace=True)\n",
            "      (conv2): Conv2d(512, 512, kernel_size=(3, 3), stride=(1, 1), padding=(1, 1), bias=False)\n",
            "      (bn2): BatchNorm2d(512, eps=1e-05, momentum=0.1, affine=True, track_running_stats=True)\n",
            "      (downsample): Sequential(\n",
            "        (0): Conv2d(256, 512, kernel_size=(1, 1), stride=(2, 2), bias=False)\n",
            "        (1): BatchNorm2d(512, eps=1e-05, momentum=0.1, affine=True, track_running_stats=True)\n",
            "      )\n",
            "    )\n",
            "    (1): BasicBlock(\n",
            "      (conv1): Conv2d(512, 512, kernel_size=(3, 3), stride=(1, 1), padding=(1, 1), bias=False)\n",
            "      (bn1): BatchNorm2d(512, eps=1e-05, momentum=0.1, affine=True, track_running_stats=True)\n",
            "      (relu): ReLU(inplace=True)\n",
            "      (conv2): Conv2d(512, 512, kernel_size=(3, 3), stride=(1, 1), padding=(1, 1), bias=False)\n",
            "      (bn2): BatchNorm2d(512, eps=1e-05, momentum=0.1, affine=True, track_running_stats=True)\n",
            "    )\n",
            "  )\n",
            "  (8): AdaptiveAvgPool2d(output_size=(1, 1))\n",
            ")\n",
            "----------------------------------------------------------------\n",
            "        Layer (type)               Output Shape         Param #\n",
            "================================================================\n",
            "            Conv2d-1         [-1, 64, 128, 128]           9,408\n",
            "       BatchNorm2d-2         [-1, 64, 128, 128]             128\n",
            "              ReLU-3         [-1, 64, 128, 128]               0\n",
            "         MaxPool2d-4           [-1, 64, 64, 64]               0\n",
            "            Conv2d-5           [-1, 64, 64, 64]          36,864\n",
            "       BatchNorm2d-6           [-1, 64, 64, 64]             128\n",
            "              ReLU-7           [-1, 64, 64, 64]               0\n",
            "            Conv2d-8           [-1, 64, 64, 64]          36,864\n",
            "       BatchNorm2d-9           [-1, 64, 64, 64]             128\n",
            "             ReLU-10           [-1, 64, 64, 64]               0\n",
            "       BasicBlock-11           [-1, 64, 64, 64]               0\n",
            "           Conv2d-12           [-1, 64, 64, 64]          36,864\n",
            "      BatchNorm2d-13           [-1, 64, 64, 64]             128\n",
            "             ReLU-14           [-1, 64, 64, 64]               0\n",
            "           Conv2d-15           [-1, 64, 64, 64]          36,864\n",
            "      BatchNorm2d-16           [-1, 64, 64, 64]             128\n",
            "             ReLU-17           [-1, 64, 64, 64]               0\n",
            "       BasicBlock-18           [-1, 64, 64, 64]               0\n",
            "           Conv2d-19          [-1, 128, 32, 32]          73,728\n",
            "      BatchNorm2d-20          [-1, 128, 32, 32]             256\n",
            "             ReLU-21          [-1, 128, 32, 32]               0\n",
            "           Conv2d-22          [-1, 128, 32, 32]         147,456\n",
            "      BatchNorm2d-23          [-1, 128, 32, 32]             256\n",
            "           Conv2d-24          [-1, 128, 32, 32]           8,192\n",
            "      BatchNorm2d-25          [-1, 128, 32, 32]             256\n",
            "             ReLU-26          [-1, 128, 32, 32]               0\n",
            "       BasicBlock-27          [-1, 128, 32, 32]               0\n",
            "           Conv2d-28          [-1, 128, 32, 32]         147,456\n",
            "      BatchNorm2d-29          [-1, 128, 32, 32]             256\n",
            "             ReLU-30          [-1, 128, 32, 32]               0\n",
            "           Conv2d-31          [-1, 128, 32, 32]         147,456\n",
            "      BatchNorm2d-32          [-1, 128, 32, 32]             256\n",
            "             ReLU-33          [-1, 128, 32, 32]               0\n",
            "       BasicBlock-34          [-1, 128, 32, 32]               0\n",
            "           Conv2d-35          [-1, 256, 16, 16]         294,912\n",
            "      BatchNorm2d-36          [-1, 256, 16, 16]             512\n",
            "             ReLU-37          [-1, 256, 16, 16]               0\n",
            "           Conv2d-38          [-1, 256, 16, 16]         589,824\n",
            "      BatchNorm2d-39          [-1, 256, 16, 16]             512\n",
            "           Conv2d-40          [-1, 256, 16, 16]          32,768\n",
            "      BatchNorm2d-41          [-1, 256, 16, 16]             512\n",
            "             ReLU-42          [-1, 256, 16, 16]               0\n",
            "       BasicBlock-43          [-1, 256, 16, 16]               0\n",
            "           Conv2d-44          [-1, 256, 16, 16]         589,824\n",
            "      BatchNorm2d-45          [-1, 256, 16, 16]             512\n",
            "             ReLU-46          [-1, 256, 16, 16]               0\n",
            "           Conv2d-47          [-1, 256, 16, 16]         589,824\n",
            "      BatchNorm2d-48          [-1, 256, 16, 16]             512\n",
            "             ReLU-49          [-1, 256, 16, 16]               0\n",
            "       BasicBlock-50          [-1, 256, 16, 16]               0\n",
            "           Conv2d-51            [-1, 512, 8, 8]       1,179,648\n",
            "      BatchNorm2d-52            [-1, 512, 8, 8]           1,024\n",
            "             ReLU-53            [-1, 512, 8, 8]               0\n",
            "           Conv2d-54            [-1, 512, 8, 8]       2,359,296\n",
            "      BatchNorm2d-55            [-1, 512, 8, 8]           1,024\n",
            "           Conv2d-56            [-1, 512, 8, 8]         131,072\n",
            "      BatchNorm2d-57            [-1, 512, 8, 8]           1,024\n",
            "             ReLU-58            [-1, 512, 8, 8]               0\n",
            "       BasicBlock-59            [-1, 512, 8, 8]               0\n",
            "           Conv2d-60            [-1, 512, 8, 8]       2,359,296\n",
            "      BatchNorm2d-61            [-1, 512, 8, 8]           1,024\n",
            "             ReLU-62            [-1, 512, 8, 8]               0\n",
            "           Conv2d-63            [-1, 512, 8, 8]       2,359,296\n",
            "      BatchNorm2d-64            [-1, 512, 8, 8]           1,024\n",
            "             ReLU-65            [-1, 512, 8, 8]               0\n",
            "       BasicBlock-66            [-1, 512, 8, 8]               0\n",
            "AdaptiveAvgPool2d-67            [-1, 512, 1, 1]               0\n",
            "================================================================\n",
            "Total params: 11,176,512\n",
            "Trainable params: 11,176,512\n",
            "Non-trainable params: 0\n",
            "----------------------------------------------------------------\n",
            "Input size (MB): 0.75\n",
            "Forward/backward pass size (MB): 82.00\n",
            "Params size (MB): 42.64\n",
            "Estimated Total Size (MB): 125.39\n",
            "----------------------------------------------------------------\n"
          ]
        }
      ],
      "source": [
        "from torchsummary import summary\n",
        "model = models.resnet18(pretrained=True)\n",
        "print(model)\n",
        "summary(model.cuda(), (3, 256, 256))\n",
        "model = torch.nn.Sequential(*(list(model.children())[:-1]))\n",
        "print(model)\n",
        "summary(model.cuda(), (3, 256, 256))"
      ]
    },
    {
      "cell_type": "code",
      "execution_count": 12,
      "metadata": {},
      "outputs": [],
      "source": [
        "\n",
        "class DeepLab(nn.Module):\n",
        "    \"\"\"\n",
        "    TODO: 6 points\n",
        "\n",
        "    (simplified) DeepLab segmentation network.\n",
        "    \n",
        "    Args:\n",
        "      - backbone: ['resnet18', 'vgg11_bn', 'mobilenet_v3_small'],\n",
        "      - aspp: use aspp module\n",
        "      - num classes: num output classes\n",
        "\n",
        "    During forward pass:\n",
        "      - Pass inputs through the backbone to obtain features\n",
        "      - Apply ASPP (if needed)\n",
        "      - Apply head\n",
        "      - Upsample logits back to the shape of the inputs\n",
        "    \"\"\"\n",
        "    def __init__(self, backbone, aspp, num_classes):\n",
        "        super(DeepLab, self).__init__()\n",
        "        self.backbone = backbone\n",
        "        self.num_classes = num_classes\n",
        "        self.init_backbone()\n",
        "        self.use_aspp = aspp\n",
        "\n",
        "        if aspp:\n",
        "            # self.aspp = ASPP(self.out_features, 256, [12, 24, 36])\n",
        "            self.aspp = ASPP(self.out_features, 256, [2, 4, 6])\n",
        "\n",
        "\n",
        "        self.head = DeepLabHead(self.out_features, num_classes)\n",
        "\n",
        "    def init_backbone(self):\n",
        "        # TODO: initialize an ImageNet-pretrained backbone\n",
        "        if self.backbone == 'resnet18':\n",
        "            self.resnet = models.resnet18(pretrained=True)\n",
        "            self.resnet = torch.nn.Sequential(*(list(self.resnet.children())[:-2]))\n",
        "            self.out_features = 512 # TODO: number of output features in the backbone\n",
        "\n",
        "        elif self.backbone == 'vgg11_bn':\n",
        "            self.vgg = models.vgg11_bn(pretrained=True)\n",
        "            self.vgg = torch.nn.Sequential(*(list(model.children())[:-1]))\n",
        "            self.out_features = 512 # TODO\n",
        "\n",
        "        elif self.backbone == 'mobilenet_v3_small':\n",
        "            self.mobil = models.mobilenet_v3_small(pretrained=True)\n",
        "            self.mobil = torch.nn.Sequential(*(list(model.children())[:-1]))\n",
        "            self.out_features = 512 # TODO\n",
        "\n",
        "    def _forward(self, x):\n",
        "        # TODO: forward pass through the backbone\n",
        "        if self.backbone == 'resnet18':\n",
        "            x = self.resnet(x)\n",
        "\n",
        "        elif self.backbone == 'vgg11_bn':\n",
        "            x = self.vgg(x)\n",
        "\n",
        "        elif self.backbone == 'mobilenet_v3_small':\n",
        "            x = self.mobil(x)\n",
        "\n",
        "        return x\n",
        "\n",
        "    def forward(self, inputs):\n",
        "        \n",
        "        x = self._forward(inputs)\n",
        "\n",
        "        if self.use_aspp:\n",
        "            x = self.aspp(x)\n",
        "        x = self.head(x)\n",
        "        logits = F.upsample_bilinear(x, inputs.shape[2:])\n",
        "\n",
        "        assert logits.shape == (inputs.shape[0], self.num_classes, inputs.shape[2], inputs.shape[3]), 'Wrong shape of the logits'\n",
        "        return logits\n",
        "\n",
        "\n",
        "class DeepLabHead(nn.Sequential):\n",
        "    def __init__(self, in_channels, num_classes):\n",
        "        super(DeepLabHead, self).__init__(\n",
        "            nn.Conv2d(in_channels, in_channels, 3, padding=1, bias=False),\n",
        "            nn.BatchNorm2d(in_channels),\n",
        "            nn.ReLU(),\n",
        "            nn.Conv2d(in_channels, num_classes, 1)\n",
        "        )\n",
        "\n",
        "class ConvReluDial(nn.Sequential):\n",
        "    def __init__(self, in_ch, out_ch,  dial=1, kernel=(3,3), padding=1):\n",
        "        super(ConvReluDial, self).__init__(\n",
        "            nn.Conv2d(in_ch, out_ch, kernel, padding=padding, dilation=dial),\n",
        "            nn.BatchNorm2d(out_ch),\n",
        "            nn.ReLU(),\n",
        "        )\n",
        "\n",
        "class Pooling(nn.Sequential):\n",
        "    def __init__(self, in_ch, out_ch):\n",
        "        super(Pooling, self).__init__(\n",
        "            nn.AdaptiveAvgPool2d(1),\n",
        "            nn.Conv2d(in_ch, out_ch, (1,1))\n",
        "        )\n",
        "\n",
        "class ASPP(nn.Module):\n",
        "    \"\"\"\n",
        "    TODO: 8 points\n",
        "\n",
        "    Atrous Spatial Pyramid Pooling module\n",
        "    with given atrous_rates and out_channels for each head\n",
        "    Description: https://paperswithcode.com/method/aspp\n",
        "    \n",
        "    Detailed scheme: materials/deeplabv3.png\n",
        "      - \"Rates\" are defined by atrous_rates\n",
        "      - \"Conv\" denotes a Conv-BN-ReLU block\n",
        "      - \"Image pooling\" denotes a global average pooling, followed by a 1x1 \"conv\" block and bilinear upsampling\n",
        "      - The last layer of ASPP block should be Dropout with p = 0.5\n",
        "\n",
        "    Args:\n",
        "      - in_channels: number of input and output channels\n",
        "      - num_channels: number of output channels in each intermediate \"conv\" block\n",
        "      - atrous_rates: a list with dilation values\n",
        "    \"\"\"\n",
        "    def __init__(self, in_channels, num_channels, atrous_rates):\n",
        "        super(ASPP, self).__init__()\n",
        "        self.layer1 = ConvReluDial(in_channels, num_channels, kernel=(1,1), padding=0)\n",
        "        self.layer2 = ConvReluDial(in_channels, num_channels, dial=atrous_rates[0], padding=atrous_rates[0])\n",
        "        self.layer3 = ConvReluDial(in_channels, num_channels, dial=atrous_rates[1], padding=atrous_rates[1])\n",
        "        self.layer4 = ConvReluDial(in_channels, num_channels, dial=atrous_rates[2], padding=atrous_rates[2])\n",
        "        self.pool = Pooling(in_channels, num_channels)\n",
        "        self.layer6 = ConvReluDial(num_channels * 5, in_channels, kernel=(1,1), padding=0)\n",
        "        self.drop = nn.Dropout()\n",
        "\n",
        "\n",
        "    def forward(self, x):\n",
        "        x1 = self.layer1(x)\n",
        "        x2 = self.layer2(x)\n",
        "        x3 = self.layer3(x)\n",
        "        x4 = self.layer4(x)\n",
        "        p = self.pool(x)\n",
        "        p = F.upsample_bilinear(p, x.shape[2:])\n",
        "        res = self.layer6(torch.cat((x1, x2, x3, x4, p), 1))\n",
        "        res = self.drop(res)\n",
        "        \n",
        "        \n",
        "        assert res.shape[1] == x.shape[1], 'Wrong number of output channels'\n",
        "        assert res.shape[2] == x.shape[2] and res.shape[3] == x.shape[3], 'Wrong spatial size'\n",
        "        return res\n",
        "    \n",
        "m0 = DeepLab(\"vgg11_bn\", True, 8).to(\"cuda\")\n",
        "preds = m0(torch.rand(1, 3, 256, 256).cuda())\n",
        "\n",
        "preds = m0(torch.rand(1, 3, 750, 1000).cuda())\n",
        "preds = torch.argmax(preds, dim=1)\n",
        "# print(preds.shape)\n",
        "# print(preds)"
      ]
    },
    {
      "cell_type": "markdown",
      "metadata": {
        "id": "8VDn5sE3N7hH"
      },
      "source": [
        "### `loss`\n",
        "**TODO: implement test losses.**\n",
        "\n",
        "For validation, we will use three metrics. \n",
        "- Mean intersection over union: **mIoU**,\n",
        "- Mean class accuracy: **classAcc**,\n",
        "- Accuracy: **Acc**.\n",
        "\n",
        "To calculate **IoU**, use this formula for binary segmentation masks for each class, and then average w.r.t. all classes:\n",
        "\n",
        "$$ \\text{IoU} = \\frac{ \\text{area of intersection} }{ \\text{area of union} } = \\frac{ \\| \\hat{m} \\cap m  \\| }{ \\| \\hat{m} \\cup m \\| }, \\quad \\text{$\\hat{m}$ — predicted binary mask},\\ \\text{$m$ — target binary mask}.$$\n",
        "\n",
        "Generally, we want our models to optimize accuracy since this implies that it makes little mistakes. However, most of the segmentation problems have imbalanced classes, and therefore the models tend to underfit the rare classes. Therefore, we also need to measure the mean performance of the model across all classes (mean IoU or mean class accuracy). In reality, these metrics (not the accuracy) are the go-to benchmarks for segmentation models."
      ]
    },
    {
      "cell_type": "code",
      "execution_count": 13,
      "metadata": {
        "id": "9Ekvzad5Ke39"
      },
      "outputs": [
        {
          "name": "stdout",
          "output_type": "stream",
          "text": [
            "torch.Size([2, 2, 2, 2])\n",
            "torch.Size([2, 2, 2])\n"
          ]
        },
        {
          "data": {
            "text/plain": [
              "(tensor(0.3333), tensor(0.5000), tensor(0.5000))"
            ]
          },
          "execution_count": 13,
          "metadata": {},
          "output_type": "execute_result"
        }
      ],
      "source": [
        "def calc_val_data(preds, masks, num_classes):\n",
        "    preds = torch.argmax(preds, dim=1)\n",
        "    # print(\"preds: \", preds, preds.shape)\n",
        "    intersection = torch.stack([torch.where((masks==i).logical_and((preds==i)), 1, 0).count_nonzero(dim=1).sum(dim=1) for i in range(num_classes)], dim=1)# TODO: calc intersection for each class\n",
        "    union = torch.stack([torch.where((masks==i).logical_or((preds==i)), 1, 0).count_nonzero(dim=1).sum(dim=1) for i in range(num_classes)], dim=1) # TODO: calc union for each class\n",
        "    target = torch.stack([torch.where(masks==i, 1, 0).count_nonzero(dim=1).sum(dim=1) for i in range(num_classes)], dim=1) # TODO: calc number of pixels in groundtruth mask per class\n",
        "    # Output shapes: B x num_classes\n",
        "\n",
        "    assert isinstance(intersection, torch.Tensor), 'Output should be a tensor'\n",
        "    assert isinstance(union, torch.Tensor), 'Output should be a tensor'\n",
        "    assert isinstance(target, torch.Tensor), 'Output should be a tensor'\n",
        "\n",
        "    # assert intersection.shape == union.shape == target.shape, 'Wrong output shape'\n",
        "    # assert union.shape[0] == masks.shape[0] and union.shape[1] == num_classes, 'Wrong output shape'\n",
        "\n",
        "    return intersection, union, target\n",
        "\n",
        "def calc_val_loss(intersection, union, target, eps = 1e-7):\n",
        "    mean_iou = ((intersection + eps) / (union + eps)).mean() # TODO: calc mean class iou\n",
        "    mean_class_rec = (intersection/ (target + eps) ).mean() # TODO: calc mean class recall\n",
        "    # mean_acc = torch.stack([intersection[i]  / t  for i, t in enumerate(target.sum(dim=1))]).mean() # TODO: calc mean accuracy\n",
        "    mean_acc = (intersection/torch.sum(target) + eps).sum()\n",
        "    # mean_class_rec = torch.mean(intersection/ (target + eps)) \n",
        "    return mean_iou, mean_class_rec, mean_acc\n",
        "\n",
        "# print(model1(train_dataset_show[0][0].reshape(1, 3, 256, 256)).shape)\n",
        "# print(train_dataset_show[0][1])\n",
        "mask = torch.tensor([[[0.,1.], [1.,0.]], [[0.,1.], [1.,0.]]])\n",
        "test = torch.tensor([[[[1.,1.], [0.,0.]], [[0.,0.], [1.,1.]]], [[[1.,1.], [0.,0.]], [[0.,0.], [1.,1.]]]])\n",
        "\n",
        "# mask = torch.tensor([[[0.,1.], [1.,0.]]])\n",
        "\n",
        "# test = torch.tensor([[[[1.,1.], [0.,0.]], [[0.,0.], [1.,1.]]]])\n",
        "print(test.shape)\n",
        "print(mask.shape)\n",
        "inter, union, target = calc_val_data(test, mask, 2)\n",
        "calc_val_data(test, mask, 2)\n",
        "# train_dataset_show[0][1].reshape(1, 256, 256).shape\n",
        "\n",
        "# inter, union, target = calc_val_data(test, mask, 8)\n",
        "# print(inter, union, target)\n",
        "# [t for i, t in enumerate(target.sum(dim=1))][0]\n",
        "calc_val_loss(inter, union, target)"
      ]
    },
    {
      "cell_type": "markdown",
      "metadata": {
        "id": "aRiIQ1_5N7hH"
      },
      "source": [
        "### `train`\n",
        "**TODO: define optimizer and learning rate scheduler.**\n",
        "\n",
        "You need to experiment with different optimizers and schedulers and pick one of each which works the best. Since the grading will be partially based on the validation performance of your models, we strongly advise doing some preliminary experiments and pick the configuration with the best results."
      ]
    },
    {
      "cell_type": "code",
      "execution_count": 14,
      "metadata": {
        "id": "Ur5xGQ_wKzGp"
      },
      "outputs": [],
      "source": [
        "# Copyright The PyTorch Lightning team.\n",
        "#\n",
        "# Licensed under the Apache License, Version 2.0 (the \"License\");\n",
        "# you may not use this file except in compliance with the License.\n",
        "# You may obtain a copy of the License at\n",
        "#\n",
        "#     http://www.apache.org/licenses/LICENSE-2.0\n",
        "#\n",
        "# Modifications Copyright Skoltech Deep Learning Course.\n",
        "\n",
        "import torch\n",
        "import torch.nn.functional as F\n",
        "import pytorch_lightning as pl\n",
        "from torch.utils.data import DataLoader\n",
        "\n",
        "# from .model import UNet, DeepLab\n",
        "# from .dataset import FloodNet\n",
        "# from . import loss\n",
        "\n",
        "\n",
        "\n",
        "class SegModel(pl.LightningModule):\n",
        "    def __init__(\n",
        "        self,\n",
        "        model: str,\n",
        "        backbone: str,\n",
        "        aspp: bool,\n",
        "        augment_data: bool,\n",
        "        optimizer: str = 'default',\n",
        "        scheduler: str = 'default',\n",
        "        lr: float = None,\n",
        "        batch_size: int = 16,\n",
        "        data_path: str = 'datasets/tiny-floodnet-challenge',\n",
        "        image_size: int = 256,\n",
        "    ):\n",
        "        super(SegModel, self).__init__()\n",
        "        self.num_classes = 8\n",
        "\n",
        "        if model == 'unet':\n",
        "            self.net = UNet(self.num_classes)\n",
        "        elif model == 'deeplab':\n",
        "            self.net = DeepLab(backbone, aspp, self.num_classes)\n",
        "\n",
        "        self.train_dataset = FloodNet(data_path, 'train', augment_data, image_size)\n",
        "        self.test_dataset = FloodNet(data_path, 'test', augment_data, image_size)\n",
        "\n",
        "        self.batch_size = batch_size\n",
        "        self.optimizer = optimizer\n",
        "        self.scheduler = scheduler\n",
        "        self.lr = lr\n",
        "        self.eps = 1e-7\n",
        "\n",
        "        # Visualization\n",
        "        self.color_map = torch.FloatTensor(\n",
        "            [[0, 0, 0], [0, 0, 1], [0, 1, 0], [0, 1, 1],\n",
        "             [1, 0, 0], [1, 0, 1], [1, 1, 0], [1, 1, 1]])\n",
        "\n",
        "    def forward(self, x):\n",
        "        return self.net(x)\n",
        "\n",
        "    def training_step(self, batch, batch_idx):\n",
        "        img, mask = batch\n",
        "        pred = self.forward(img)\n",
        "\n",
        "        train_loss = F.cross_entropy(pred, mask)\n",
        "\n",
        "        self.log('train_loss', train_loss, prog_bar=True)\n",
        "\n",
        "        return train_loss\n",
        "\n",
        "    def validation_step(self, batch, batch_idx):\n",
        "        img, mask = batch\n",
        "        pred = self.forward(img)\n",
        "\n",
        "        # intersection, union, target = loss.calc_val_data(pred, mask, self.num_classes)\n",
        "        intersection, union, target = calc_val_data(pred, mask, self.num_classes)\n",
        "\n",
        "\n",
        "\n",
        "        return {'intersection': intersection, 'union': union, 'target': target, 'img': img, 'pred': pred, 'mask': mask}\n",
        "\n",
        "    def validation_epoch_end(self, outputs):\n",
        "        intersection = torch.cat([x['intersection'] for x in outputs])\n",
        "        union = torch.cat([x['union'] for x in outputs])\n",
        "        target = torch.cat([x['target'] for x in outputs])\n",
        "\n",
        "        # mean_iou, mean_class_rec, mean_acc = loss.calc_val_loss(intersection, union, target, self.eps)\n",
        "        mean_iou, mean_class_rec, mean_acc = calc_val_loss(intersection, union, target, self.eps)\n",
        "\n",
        "\n",
        "        log_dict = {'mean_iou': mean_iou, 'mean_class_rec': mean_class_rec, 'mean_acc': mean_acc}\n",
        "\n",
        "        for k, v in log_dict.items():\n",
        "            self.log(k, v, prog_bar=True)\n",
        "\n",
        "        # Visualize results\n",
        "        img = torch.cat([x['img'] for x in outputs]).cpu()\n",
        "        pred = torch.cat([x['pred'] for x in outputs]).cpu()\n",
        "        mask = torch.cat([x['mask'] for x in outputs]).cpu()\n",
        "\n",
        "        pred_vis = self.visualize_mask(torch.argmax(pred, dim=1))\n",
        "        mask_vis = self.visualize_mask(mask)\n",
        "\n",
        "        results = torch.cat(torch.cat([img, pred_vis, mask_vis], dim=3).split(1, dim=0), dim=2)\n",
        "        results_thumbnail = F.interpolate(results, scale_factor=0.25, mode='bilinear')[0]\n",
        "\n",
        "        self.logger.experiment.add_image('results', results_thumbnail, self.current_epoch)\n",
        "\n",
        "    def visualize_mask(self, mask):\n",
        "        b, h, w = mask.shape\n",
        "        mask_ = mask.view(-1)\n",
        "\n",
        "        if self.color_map.device != mask.device:\n",
        "            self.color_map = self.color_map.to(mask.device)\n",
        "\n",
        "        mask_vis = self.color_map[mask_].view(b, h, w, 3).permute(0, 3, 1, 2).clone()\n",
        "\n",
        "        return mask_vis\n",
        "\n",
        "    def configure_optimizers(self):\n",
        "        # TODO: 2 points\n",
        "        # Use self.optimizer and self.scheduler to call different optimizers\n",
        "        opt = None # TODO: init optimizer\n",
        "        sch = None # TODO: init learning rate scheduler\n",
        "        opt = torch.optim.AdamW(self.parameters(), lr=self.lr)\n",
        "        sch = torch.optim.lr_scheduler.StepLR(opt, step_size=20)\n",
        "        return [opt], [sch]\n",
        "\n",
        "    def train_dataloader(self):\n",
        "        return DataLoader(self.train_dataset, num_workers=8, batch_size=self.batch_size, shuffle=True)\n",
        "\n",
        "    def val_dataloader(self):\n",
        "        return DataLoader(self.test_dataset, num_workers=8, batch_size=1, shuffle=False)"
      ]
    },
    {
      "cell_type": "markdown",
      "metadata": {
        "id": "Hi3TDmYyN7hI"
      },
      "source": [
        "## Part 2. Train and benchmark\n",
        "\n",
        "In this part of the assignment, you need to train the following models and measure their training time:\n",
        "- **UNet** (with and without data augmentation),\n",
        "- **DeepLab** with **ResNet18** backbone (with **ASPP** = True and False),\n",
        "- **DeepLab** with the remaining backbones you implemented and **ASPP** = True).\n",
        "\n",
        "To get the full mark for this assignment, all the required models should be trained (and their checkpoints provided), and have at least 0.5 accuracies.\n",
        "\n",
        "After the models are trained, evaluate their inference time on both GPU and CPU.\n",
        "\n",
        "Example training and evaluation code are below."
      ]
    },
    {
      "cell_type": "markdown",
      "metadata": {
        "id": "zLBYPZXcu_Ff"
      },
      "source": []
    },
    {
      "cell_type": "code",
      "execution_count": 15,
      "metadata": {
        "id": "dFKHCO_DN7hJ"
      },
      "outputs": [],
      "source": [
        "import pytorch_lightning as pl\n",
        "# from semantic_segmentation.train import SegModel\n",
        "import time\n",
        "import torch\n",
        "\n",
        "\n",
        "def define_model(model_name: str, \n",
        "                 backbone: str, \n",
        "                 aspp: bool, \n",
        "                 augment_data: bool, \n",
        "                 optimizer: str, \n",
        "                 scheduler: str, \n",
        "                 lr: float, \n",
        "                 checkpoint_name: str = '', \n",
        "                 batch_size: int = 16):\n",
        "    assignment_dir = 'semantic_segmentation'\n",
        "    experiment_name = f'{model_name}_{backbone}_augment={augment_data}_aspp={aspp}'\n",
        "    model_name = model_name.lower()\n",
        "    backbone = backbone.lower() if backbone is not None else backbone\n",
        "    \n",
        "    model = SegModel(\n",
        "        model_name, \n",
        "        backbone, \n",
        "        aspp, \n",
        "        augment_data,\n",
        "        optimizer,\n",
        "        scheduler,\n",
        "        lr,\n",
        "        batch_size, \n",
        "        data_path='datasets/tiny-floodnet-challenge', \n",
        "        image_size=256)\n",
        "\n",
        "    if checkpoint_name:\n",
        "        model.load_state_dict(torch.load(f'{assignment_dir}/logs/{experiment_name}/{checkpoint_name}')['state_dict'])\n",
        "    \n",
        "    return model, experiment_name\n",
        "\n",
        "def train(model, experiment_name, use_gpu):\n",
        "    assignment_dir = 'semantic_segmentation'\n",
        "\n",
        "    logger = pl.loggers.TensorBoardLogger(save_dir=f'{assignment_dir}/logs', name=experiment_name)\n",
        "\n",
        "    checkpoint_callback = pl.callbacks.ModelCheckpoint(\n",
        "        monitor='mean_iou',\n",
        "        dirpath=f'{assignment_dir}/logs/{experiment_name}',\n",
        "        filename='{epoch:02d}-{mean_iou:.3f}',\n",
        "        mode='max')\n",
        "    \n",
        "    trainer = pl.Trainer(\n",
        "        max_epochs=100, \n",
        "        devices=[1], \n",
        "        accelerator=\"gpu\",\n",
        "        benchmark=True, \n",
        "        check_val_every_n_epoch=5, \n",
        "        logger=logger, \n",
        "        callbacks=[checkpoint_callback])\n",
        "\n",
        "    time_start = time.time()\n",
        "    \n",
        "    trainer.fit(model)\n",
        "    \n",
        "    torch.cuda.synchronize()\n",
        "    time_end = time.time()\n",
        "    \n",
        "    training_time = (time_end - time_start) / 60\n",
        "    \n",
        "    return training_time"
      ]
    },
    {
      "cell_type": "code",
      "execution_count": 16,
      "metadata": {},
      "outputs": [
        {
          "data": {
            "text/plain": [
              "True"
            ]
          },
          "execution_count": 16,
          "metadata": {},
          "output_type": "execute_result"
        }
      ],
      "source": [
        "torch.cuda.is_available()"
      ]
    },
    {
      "cell_type": "code",
      "execution_count": 24,
      "metadata": {
        "id": "xj3nksa7N7hK"
      },
      "outputs": [
        {
          "name": "stderr",
          "output_type": "stream",
          "text": [
            "GPU available: True, used: True\n",
            "TPU available: False, using: 0 TPU cores\n",
            "IPU available: False, using: 0 IPUs\n",
            "LOCAL_RANK: 0 - CUDA_VISIBLE_DEVICES: [0,1,2]\n",
            "\n",
            "  | Name | Type | Params\n",
            "------------------------------\n",
            "0 | net  | UNet | 4.7 M \n",
            "------------------------------\n",
            "4.7 M     Trainable params\n",
            "0         Non-trainable params\n",
            "4.7 M     Total params\n",
            "18.759    Total estimated model params size (MB)\n",
            "/home/p0l0satik/.local/lib/python3.6/site-packages/pytorch_lightning/callbacks/model_checkpoint.py:631: UserWarning: Checkpoint directory /home/p0l0satik/floodnet/semantic_segmentation/logs/unet_None_augment=True_aspp=None exists and is not empty.\n",
            "  rank_zero_warn(f\"Checkpoint directory {dirpath} exists and is not empty.\")\n"
          ]
        },
        {
          "data": {
            "application/vnd.jupyter.widget-view+json": {
              "model_id": "5193cca323614234ae515409ba669ec4",
              "version_major": 2,
              "version_minor": 0
            },
            "text/plain": [
              "Validation sanity check: 0it [00:00, ?it/s]"
            ]
          },
          "metadata": {},
          "output_type": "display_data"
        },
        {
          "name": "stderr",
          "output_type": "stream",
          "text": [
            "/home/p0l0satik/.local/lib/python3.6/site-packages/torch/nn/functional.py:3847: UserWarning: nn.functional.upsample_bilinear is deprecated. Use nn.functional.interpolate instead.\n",
            "  warnings.warn(\"nn.functional.upsample_bilinear is deprecated. Use nn.functional.interpolate instead.\")\n",
            "/home/p0l0satik/.local/lib/python3.6/site-packages/torch/nn/functional.py:3635: UserWarning: Default upsampling behavior when mode=bilinear is changed to align_corners=False since 0.4.0. Please specify align_corners=True if the old behavior is desired. See the documentation of nn.Upsample for details.\n",
            "  \"See the documentation of nn.Upsample for details.\".format(mode)\n",
            "/home/p0l0satik/.local/lib/python3.6/site-packages/torch/nn/functional.py:3680: UserWarning: The default behavior for interpolate/upsample with float scale_factor changed in 1.6.0 to align with other frameworks/libraries, and now uses scale_factor directly, instead of relying on the computed output size. If you wish to restore the old behavior, please set recompute_scale_factor=True. See the documentation of nn.Upsample for details. \n",
            "  \"The default behavior for interpolate/upsample with float scale_factor changed \"\n",
            "/home/p0l0satik/.local/lib/python3.6/site-packages/pytorch_lightning/trainer/data_loading.py:433: UserWarning: The number of training samples (20) is smaller than the logging interval Trainer(log_every_n_steps=50). Set a lower value for log_every_n_steps if you want to see logs for the training epoch.\n",
            "  f\"The number of training samples ({self.num_training_batches}) is smaller than the logging interval\"\n"
          ]
        },
        {
          "data": {
            "application/vnd.jupyter.widget-view+json": {
              "model_id": "b529c12ff0204c46aed9a27a49cfb8f4",
              "version_major": 2,
              "version_minor": 0
            },
            "text/plain": [
              "Training: 0it [00:00, ?it/s]"
            ]
          },
          "metadata": {},
          "output_type": "display_data"
        },
        {
          "data": {
            "application/vnd.jupyter.widget-view+json": {
              "model_id": "101a34b42fab4d049b3eed0bab97a316",
              "version_major": 2,
              "version_minor": 0
            },
            "text/plain": [
              "Validating: 0it [00:00, ?it/s]"
            ]
          },
          "metadata": {},
          "output_type": "display_data"
        },
        {
          "data": {
            "application/vnd.jupyter.widget-view+json": {
              "model_id": "c44f2191ad984f23a59bc7cb9f073f2a",
              "version_major": 2,
              "version_minor": 0
            },
            "text/plain": [
              "Validating: 0it [00:00, ?it/s]"
            ]
          },
          "metadata": {},
          "output_type": "display_data"
        },
        {
          "data": {
            "application/vnd.jupyter.widget-view+json": {
              "model_id": "9cdfba1e7d0b4f15bbfa89effdbeb11f",
              "version_major": 2,
              "version_minor": 0
            },
            "text/plain": [
              "Validating: 0it [00:00, ?it/s]"
            ]
          },
          "metadata": {},
          "output_type": "display_data"
        },
        {
          "data": {
            "application/vnd.jupyter.widget-view+json": {
              "model_id": "d4b8a32918364cc893145d393ca5336b",
              "version_major": 2,
              "version_minor": 0
            },
            "text/plain": [
              "Validating: 0it [00:00, ?it/s]"
            ]
          },
          "metadata": {},
          "output_type": "display_data"
        },
        {
          "data": {
            "application/vnd.jupyter.widget-view+json": {
              "model_id": "8ad2448b18e2490aa09cab779c220969",
              "version_major": 2,
              "version_minor": 0
            },
            "text/plain": [
              "Validating: 0it [00:00, ?it/s]"
            ]
          },
          "metadata": {},
          "output_type": "display_data"
        },
        {
          "data": {
            "application/vnd.jupyter.widget-view+json": {
              "model_id": "485c37c13d3543e3b76d506f547dc4fc",
              "version_major": 2,
              "version_minor": 0
            },
            "text/plain": [
              "Validating: 0it [00:00, ?it/s]"
            ]
          },
          "metadata": {},
          "output_type": "display_data"
        },
        {
          "data": {
            "application/vnd.jupyter.widget-view+json": {
              "model_id": "d2a501686a5b4084827fa1ae8b1bb2e1",
              "version_major": 2,
              "version_minor": 0
            },
            "text/plain": [
              "Validating: 0it [00:00, ?it/s]"
            ]
          },
          "metadata": {},
          "output_type": "display_data"
        },
        {
          "data": {
            "application/vnd.jupyter.widget-view+json": {
              "model_id": "e3c916c58d3c4aa2b61fcc8886c537dd",
              "version_major": 2,
              "version_minor": 0
            },
            "text/plain": [
              "Validating: 0it [00:00, ?it/s]"
            ]
          },
          "metadata": {},
          "output_type": "display_data"
        },
        {
          "data": {
            "application/vnd.jupyter.widget-view+json": {
              "model_id": "01c935838f984c748ea8fc2d9d7c9337",
              "version_major": 2,
              "version_minor": 0
            },
            "text/plain": [
              "Validating: 0it [00:00, ?it/s]"
            ]
          },
          "metadata": {},
          "output_type": "display_data"
        },
        {
          "data": {
            "application/vnd.jupyter.widget-view+json": {
              "model_id": "9606be327cbc47c29a40901d4c8e38cc",
              "version_major": 2,
              "version_minor": 0
            },
            "text/plain": [
              "Validating: 0it [00:00, ?it/s]"
            ]
          },
          "metadata": {},
          "output_type": "display_data"
        },
        {
          "data": {
            "application/vnd.jupyter.widget-view+json": {
              "model_id": "cd87265cadec4a62b8f9c95cf5541799",
              "version_major": 2,
              "version_minor": 0
            },
            "text/plain": [
              "Validating: 0it [00:00, ?it/s]"
            ]
          },
          "metadata": {},
          "output_type": "display_data"
        },
        {
          "data": {
            "application/vnd.jupyter.widget-view+json": {
              "model_id": "98347ae3df2b4bbd8d056e7f8a75763a",
              "version_major": 2,
              "version_minor": 0
            },
            "text/plain": [
              "Validating: 0it [00:00, ?it/s]"
            ]
          },
          "metadata": {},
          "output_type": "display_data"
        },
        {
          "data": {
            "application/vnd.jupyter.widget-view+json": {
              "model_id": "2be1e16fd4fe4476aaed24dfe8f94e9b",
              "version_major": 2,
              "version_minor": 0
            },
            "text/plain": [
              "Validating: 0it [00:00, ?it/s]"
            ]
          },
          "metadata": {},
          "output_type": "display_data"
        },
        {
          "data": {
            "application/vnd.jupyter.widget-view+json": {
              "model_id": "60e0deac91784cce8f849b062cc85761",
              "version_major": 2,
              "version_minor": 0
            },
            "text/plain": [
              "Validating: 0it [00:00, ?it/s]"
            ]
          },
          "metadata": {},
          "output_type": "display_data"
        },
        {
          "data": {
            "application/vnd.jupyter.widget-view+json": {
              "model_id": "cb4ca0df85f6457e92f191e6de92bef6",
              "version_major": 2,
              "version_minor": 0
            },
            "text/plain": [
              "Validating: 0it [00:00, ?it/s]"
            ]
          },
          "metadata": {},
          "output_type": "display_data"
        },
        {
          "data": {
            "application/vnd.jupyter.widget-view+json": {
              "model_id": "bf63d9be9a7e43b492a06ccaa1e69fd2",
              "version_major": 2,
              "version_minor": 0
            },
            "text/plain": [
              "Validating: 0it [00:00, ?it/s]"
            ]
          },
          "metadata": {},
          "output_type": "display_data"
        },
        {
          "data": {
            "application/vnd.jupyter.widget-view+json": {
              "model_id": "1507911e687a40baac8cca14f99759b7",
              "version_major": 2,
              "version_minor": 0
            },
            "text/plain": [
              "Validating: 0it [00:00, ?it/s]"
            ]
          },
          "metadata": {},
          "output_type": "display_data"
        },
        {
          "data": {
            "application/vnd.jupyter.widget-view+json": {
              "model_id": "0eeed02744984ed0b4359a9496a7fe88",
              "version_major": 2,
              "version_minor": 0
            },
            "text/plain": [
              "Validating: 0it [00:00, ?it/s]"
            ]
          },
          "metadata": {},
          "output_type": "display_data"
        },
        {
          "data": {
            "application/vnd.jupyter.widget-view+json": {
              "model_id": "205bae5a14274ba28e04c7070c4566bf",
              "version_major": 2,
              "version_minor": 0
            },
            "text/plain": [
              "Validating: 0it [00:00, ?it/s]"
            ]
          },
          "metadata": {},
          "output_type": "display_data"
        },
        {
          "data": {
            "application/vnd.jupyter.widget-view+json": {
              "model_id": "f47d8425baf44fe0ae52263f4439ea2c",
              "version_major": 2,
              "version_minor": 0
            },
            "text/plain": [
              "Validating: 0it [00:00, ?it/s]"
            ]
          },
          "metadata": {},
          "output_type": "display_data"
        },
        {
          "name": "stdout",
          "output_type": "stream",
          "text": [
            "Training time: 16.133 minutes\n"
          ]
        }
      ],
      "source": [
        "# model, experiment_name = define_model(\n",
        "#     model_name='DeepLab',\n",
        "#     backbone=\"mobilenet_v3_small\",\n",
        "#     aspp=True,\n",
        "#     augment_data=True,\n",
        "#     optimizer='Adam', # use these options to experiment\n",
        "#     scheduler='LR', # with optimizers and schedulers\n",
        "#     lr=1e-3) # experiment to find the best LR\n",
        "# # training_time = train(model, experiment_name, use_gpu=True)\n",
        "\n",
        "model, experiment_name = define_model(\n",
        "    model_name='unet',\n",
        "    backbone=None,\n",
        "    aspp=None,\n",
        "    augment_data=True,\n",
        "    optimizer='Adam', # use these options to experiment\n",
        "    scheduler='LR', # with optimizers and schedulers\n",
        "    lr=1e-3) # experiment to find the best LR\n",
        "training_time = train(model, experiment_name, use_gpu=True)\n",
        "\n",
        "print(f'Training time: {training_time:.3f} minutes')"
      ]
    },
    {
      "cell_type": "markdown",
      "metadata": {
        "id": "jhZ7Lxl1N7hK"
      },
      "source": [
        "After training, the loss curves and validation images with their segmentation masks can be viewed using the TensorBoard extension:"
      ]
    },
    {
      "cell_type": "code",
      "execution_count": 18,
      "metadata": {
        "id": "hk5ZiCKZN7hL"
      },
      "outputs": [],
      "source": [
        "# %reload_ext  tensorboard\n",
        "# %tensorboard --logdir part1_semantic_segmentation/logs"
      ]
    },
    {
      "cell_type": "markdown",
      "metadata": {
        "id": "u_fRLdGlN7hL"
      },
      "source": [
        "Inference time can be measured via the following function:"
      ]
    },
    {
      "cell_type": "code",
      "execution_count": 25,
      "metadata": {
        "id": "oiSMdtO4N7hM"
      },
      "outputs": [
        {
          "name": "stderr",
          "output_type": "stream",
          "text": [
            "/home/p0l0satik/.local/lib/python3.6/site-packages/torch/nn/functional.py:3847: UserWarning: nn.functional.upsample_bilinear is deprecated. Use nn.functional.interpolate instead.\n",
            "  warnings.warn(\"nn.functional.upsample_bilinear is deprecated. Use nn.functional.interpolate instead.\")\n"
          ]
        },
        {
          "name": "stdout",
          "output_type": "stream",
          "text": [
            "Inferece time (per frame): 94.859 ms\n"
          ]
        }
      ],
      "source": [
        "def calc_inference_time(model, device, input_shape=(1000, 750), num_iters=100):\n",
        "    timings = []\n",
        "\n",
        "    for i in range(num_iters):\n",
        "        x = torch.randn(1, 3, *input_shape).to(device)\n",
        "        time_start = time.time()\n",
        "        \n",
        "        model(x)\n",
        "        \n",
        "        torch.cuda.synchronize()\n",
        "        time_end = time.time()\n",
        "        \n",
        "        timings.append(time_end - time_start)\n",
        "\n",
        "    return sum(timings) / len(timings) * 1e3\n",
        "\n",
        "\n",
        "model, experiment_name = define_model(\n",
        "    model_name='unet',\n",
        "    backbone=None,\n",
        "    aspp=None,\n",
        "    augment_data=True,\n",
        "    optimizer='Adam', # use these options to experiment\n",
        "    scheduler='LR', # with optimizers and schedulers\n",
        "    lr=1e-3,\n",
        "    checkpoint_name=\"epoch=69-mean_iou=0_488.ckpt\")\n",
        "\n",
        "\n",
        "# inference_time = calc_inference_time(model.eval().cpu(), 'cpu')\n",
        "inference_time = calc_inference_time(model.eval().cuda(), 'cuda')\n",
        "\n",
        "print(f'Inferece time (per frame): {inference_time:.3f} ms')"
      ]
    },
    {
      "cell_type": "markdown",
      "metadata": {
        "id": "Lh2ilbnoJzJ0"
      },
      "source": [
        "Your trained weights are available in the `part1_semantic_segmentation/logs` folder. Inside, your experiment directory has a log file with the following mask: `{epoch:02d}-{mean_iou:.3f}.ckpt`. <font color='red'>**Make sure that you models satisfy the accuracy requirements, upload them to your personal Google Drive, and provide a link to google drive folder**."
      ]
    },
    {
      "cell_type": "code",
      "execution_count": 20,
      "metadata": {
        "id": "fVXnmnSDJ1Kf"
      },
      "outputs": [],
      "source": [
        "checkpoint_names = {\n",
        "    'UNet_None_augment=False_aspp=None.ckpt',\n",
        "    'UNet_None_augment=True_aspp=None.ckpt',\n",
        "    'DeepLab_ResNet18_augment=True_aspp=False.ckpt',\n",
        "    'DeepLab_ResNet18_augment=True_aspp=True.ckpt',\n",
        "    'DeepLab_VGG11_bn_augment=True_aspp=True.ckpt',\n",
        "    'DeepLab_MobileNet_v3_small_augment=True_aspp=True.ckpt',\n",
        "}\n",
        "\n",
        "checkpoint_names = {\n",
        "    'UNet_None_augment=False_aspp=None.ckpt',\n",
        "    'UNet_None_augment=True_aspp=None.ckpt',\n",
        "    'DeepLab_ResNet18_augment=True_aspp=False.ckpt',\n",
        "    'DeepLab_ResNet18_augment=True_aspp=True.ckpt',\n",
        "    'DeepLab_VGG11_bn_augment=True_aspp=True.ckpt',\n",
        "    'DeepLab_MobileNet_v3_small_augment=True_aspp=True.ckpt',\n",
        "}"
      ]
    },
    {
      "cell_type": "markdown",
      "metadata": {
        "id": "_2oX5M2ZN7hM"
      },
      "source": [
        "## Part 3. Report\n",
        "\n",
        "You should have obtained 7 different models, which we will use for the comparison and evaluation. When asked to visualize specific loss curves, simply configure these plots in TensorBoard, screenshot, store them in the `report` folder, and load into Jupyter markdown:\n",
        "\n",
        "`<img src=\"./part1_semantic_segmentation/report/<screenshot_filename>\"/>`\n",
        "\n",
        "If you have problems loading these images, try uploading them [here](https://imgur.com) and using a link as `src`. Do not forget to include the raw files in the `report` folder anyways.\n",
        "\n",
        "You should make sure that your plots satisfy the following requirements:\n",
        "- Each plot has a title,\n",
        "- If there are multiple curves on one plot (or dots on the scatter plot), the plot legend should also be present,\n",
        "- If the plot is not obtained using TensorBoard (Task 3), the axis should have names and ticks."
      ]
    },
    {
      "cell_type": "markdown",
      "metadata": {
        "id": "ZyN709bbtEnk"
      },
      "source": [
        "<font color='red'>**In this task, it is obligatory to provide accuracy plots on the training and validation datasets obtained during training, as well as examples of the work of each of the models on the images. Without plots, your work will get 0 points. Writing a report is just as important as writing code.**</font>"
      ]
    },
    {
      "cell_type": "markdown",
      "metadata": {
        "id": "_-vODgPbN7hN"
      },
      "source": [
        "#### Task 1.\n",
        "Visualize training loss and validation loss curves for UNet trained with and without data augmentation. What are the differences in the behavior of these curves between these experiments, and what are the reasons?"
      ]
    },
    {
      "cell_type": "markdown",
      "metadata": {},
      "source": [
        "In the following orange line is Unet with augumentation while green - without."
      ]
    },
    {
      "cell_type": "markdown",
      "metadata": {},
      "source": [
        "![Unet train loss](img/unet_train.png)\n",
        "Unet train loss"
      ]
    },
    {
      "cell_type": "markdown",
      "metadata": {},
      "source": [
        "![Unet Accuracy](img/unet_acc.png)\n",
        "Unet Accuracy"
      ]
    },
    {
      "cell_type": "markdown",
      "metadata": {},
      "source": [
        "![Unet mean IoU](img/unet_iou.png)\n",
        "Unet mean IoU"
      ]
    },
    {
      "cell_type": "markdown",
      "metadata": {},
      "source": [
        "![Unet recall](img/unet_rec.png)\n",
        "Unet recall"
      ]
    },
    {
      "cell_type": "markdown",
      "metadata": {
        "id": "Wl6Q2UtDN7hN"
      },
      "source": [
        "TODO"
      ]
    },
    {
      "cell_type": "markdown",
      "metadata": {
        "id": "hL14-DsON7hN"
      },
      "source": [
        "#### Task 2.\n",
        "Visualize training and validation loss curves for ResNet18 trained with and without ASPP. Which model performs better?"
      ]
    },
    {
      "cell_type": "markdown",
      "metadata": {
        "id": "GdGq0hUbN7hO"
      },
      "source": [
        "![ResNet18 train loss](img/res_train.png)\n",
        "ResNet18 train loss"
      ]
    },
    {
      "cell_type": "markdown",
      "metadata": {},
      "source": [
        "![ResNet18 Accuracy](img/res_acc.png)\n",
        "ResNet18 Accuracy"
      ]
    },
    {
      "cell_type": "markdown",
      "metadata": {},
      "source": [
        "![ResNet18 mean IoU](img/res_iou.png)\n",
        "ResNet18 mean IoU"
      ]
    },
    {
      "cell_type": "markdown",
      "metadata": {},
      "source": [
        "![ResNet18 recall](img/res_rec.png)\n",
        "ResNet18 recall"
      ]
    },
    {
      "cell_type": "markdown",
      "metadata": {
        "id": "SCIs_q4WN7hO"
      },
      "source": [
        "#### Task 3.\n",
        "Compare **UNet** with augmentations and **DeepLab** with all backbones (only experiments with **ASPP**). To do that, put these models on three scatter plots. For the first plot, the x-axis is **training time** (in minutes), for the second plot, the x-axis is **inference time** (in milliseconds), and for the third plot, the x-axis is **model size** (in megabytes). The size of each model is printed by PyTorch Lightning. For all plots, the y-axis is the best **mIoU**. To clarify, each of the **4** requested models should be a single dot on each of these plots.\n",
        "\n",
        "Which models are the most efficient with respect to each metric on the x-axes? For each of the evaluated models, rate its performance using their validation metrics, training and inference time, and model size. Also for each model explain what are its advantages, and how its performance could be improved?"
      ]
    },
    {
      "cell_type": "code",
      "execution_count": 27,
      "metadata": {},
      "outputs": [
        {
          "data": {
            "image/png": "[encoded data removed]",
            "text/plain": [
              "<Figure size 576x720 with 3 Axes>"
            ]
          },
          "metadata": {
            "needs_background": "light"
          },
          "output_type": "display_data"
        }
      ],
      "source": [
        "labels = [\"unet\", \"resnet\", \"mobilenet\", \"vgg\"]\n",
        "train_t = [16.133,7.416,6.610,9.869]\n",
        "inf_t = [98.859,13.204,9.816,9.524]\n",
        "model_size = [18.759,72.009,72.009,72.009]\n",
        "mIoU = [.485,.589,.580, .58]\n",
        "# plt.scatter(train_t, mIoU)\n",
        "# plt.scatter(inf_t, mIoU)\n",
        "# plt.scatter(model_size, mIoU)\n",
        "\n",
        "fig, axs = plt.subplots(3, 1, figsize=(8, 10))\n",
        "axs[0].scatter(train_t, mIoU)\n",
        "# axs[0].set_title('Train time')\n",
        "axs[0].set_xlabel('Train time (min)')\n",
        "axs[0].set_ylabel('mIoU')\n",
        "for i, txt in enumerate(labels):\n",
        "    axs[0].annotate(txt, (train_t[i], mIoU[i]))\n",
        "\n",
        "axs[1].scatter(inf_t, mIoU)\n",
        "# axs[1].set_title('Inference time')\n",
        "axs[1].set_xlabel('Inference time (ms)')\n",
        "axs[1].set_ylabel('mIoU')\n",
        "for i, txt in enumerate(labels):\n",
        "    axs[1].annotate(txt, (inf_t[i], mIoU[i]))\n",
        "\n",
        "axs[2].scatter(model_size, mIoU)\n",
        "# axs[2].set_title('Model size')\n",
        "axs[2].set_xlabel('Model size (mb)')\n",
        "axs[2].set_ylabel('mIoU')\n",
        "for i, txt in enumerate(labels):\n",
        "    axs[2].annotate(txt, (model_size[i], mIoU[i]))\n",
        "\n"
      ]
    },
    {
      "cell_type": "markdown",
      "metadata": {
        "id": "TiNRa25cN7hO"
      },
      "source": [
        "TODO"
      ]
    },
    {
      "cell_type": "markdown",
      "metadata": {
        "id": "C6FyZ7wqN7hO"
      },
      "source": [
        "#### Task 4.\n",
        "\n",
        "Pick the best model according to **mIoU** and look at the visualized predictions on the validation set in the TensorBoard. For each segmentation class, find the good examples (if they are available), and the failure cases. Provide the zoomed-in examples and their analysis below. Please do not attach full validation images, only the areas of interest which you should crop manually."
      ]
    },
    {
      "cell_type": "markdown",
      "metadata": {
        "id": "8YIv1z-aN7hP"
      },
      "source": [
        "TODO"
      ]
    },
    {
      "cell_type": "markdown",
      "metadata": {
        "id": "kFf1lCsCS0ci"
      },
      "source": [
        "**<font color='red'>Before the submission please:**\n",
        "\n",
        "*   comment all strings that start with '!' symbol\n",
        "*   convert your notebook to .py file and check that it runs correctly.\n",
        "* upload both .ipynb and .py to Canvas\n",
        "\n",
        "\n",
        "  How to get .py file in Colab: File -> Download -> Download .py</font>"
      ]
    },
    {
      "cell_type": "code",
      "execution_count": 22,
      "metadata": {
        "colab": {
          "base_uri": "https://localhost:8080/"
        },
        "id": "10ffl_GbS758",
        "outputId": "0f7bfd1d-1e46-4fad-b0a9-9b7dc1baf155"
      },
      "outputs": [
        {
          "name": "stdout",
          "output_type": "stream",
          "text": [
            "python: can't open file 'hw2_semantic_segmentation_surname_name_attempt_1.py': [Errno 2] No such file or directory\n"
          ]
        }
      ],
      "source": [
        "#Left side menu in Colab -> Files -> Upload your script and then check.\n",
        "!python hw2_semantic_segmentation_surname_name_attempt_1.py\n",
        "# comment this block after checking\n",
        "# You can replace TODO strings to None"
      ]
    }
  ],
  "metadata": {
    "colab": {
      "collapsed_sections": [],
      "name": "Копия блокнота \"hw2-semantic_segmentation-Surname-Name-attempt-1.ipynb\"",
      "provenance": []
    },
    "kernelspec": {
      "display_name": "Python 3",
      "language": "python",
      "name": "python3"
    },
    "language_info": {
      "codemirror_mode": {
        "name": "ipython",
        "version": 3
      },
      "file_extension": ".py",
      "mimetype": "text/x-python",
      "name": "python",
      "nbconvert_exporter": "python",
      "pygments_lexer": "ipython3",
      "version": "3.6.9"
    }
  },
  "nbformat": 4,
  "nbformat_minor": 0
}
